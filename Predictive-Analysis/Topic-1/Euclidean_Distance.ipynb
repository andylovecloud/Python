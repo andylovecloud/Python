{
  "nbformat": 4,
  "nbformat_minor": 0,
  "metadata": {
    "colab": {
      "provenance": []
    },
    "kernelspec": {
      "name": "python3",
      "display_name": "Python 3"
    },
    "language_info": {
      "name": "python"
    }
  },
  "cells": [
    {
      "cell_type": "markdown",
      "source": [
        "# Calculating Euclidean Distance in k-NN\n",
        "\n",
        "In the k-Nearest Neighbors (k-NN) algorithm, Euclidean distance is commonly used to measure the distance between two points in a feature space. In this example, we will calculate the Euclidean distance between two points $P$ and $Q$ using math.\n",
        "\n",
        "### Euclidean Distance Formula\n",
        "\n",
        "For two points $P = (p_1, p_2, \\dots, p_n)$ and $Q = (q_1, q_2, \\dots, q_n)$, the Euclidean distance $d$ is calculated as:\n",
        "\n",
        "$$\n",
        "d(P, Q) = \\sqrt{\\sum_{i=1}^{n} (p_i - q_i)^2}\n",
        "$$\n",
        "\n",
        "Where:\n",
        "\n",
        "- $p_i$ and $q_i$ are the values of each feature for points $P$ and $Q$ respectively.\n",
        "- $n$ is the total number of features.\n",
        "\n",
        "### Example Calculation\n",
        "\n",
        "Let's calculate the Euclidean distance between two points:\n",
        "\n",
        "- $P = [2, 3]$\n",
        "- $Q = [5, 7]$\n",
        "\n",
        "Using the formula:\n",
        "\n",
        "$$\n",
        "d(P, Q) = \\sqrt{(2 - 5)^2 + (3 - 7)^2}\n",
        "$$\n",
        "\n",
        "1. First, calculate the difference for each dimension:\n",
        "   - $(2 - 5) = -3$\n",
        "   - $(3 - 7) = -4$\n",
        "\n",
        "2. Square each difference:\n",
        "   - $(-3)^2 = 9$\n",
        "   - $(-4)^2 = 16$\n",
        "\n",
        "3. Sum the squared differences:\n",
        "   - $9 + 16 = 25$\n",
        "\n",
        "4. Take the square root of the sum:\n",
        "   - $\\sqrt{25} = 5$\n",
        "\n",
        "So, the Euclidean distance $d(P, Q)$ is **5**."
      ],
      "metadata": {
        "id": "n8xo7-jx9lpT"
      }
    },
    {
      "cell_type": "code",
      "execution_count": 1,
      "metadata": {
        "colab": {
          "base_uri": "https://localhost:8080/"
        },
        "id": "5vOWUjJC9N2f",
        "outputId": "f21a2212-2f80-4e2a-a56e-ffc390fff3cf"
      },
      "outputs": [
        {
          "output_type": "stream",
          "name": "stdout",
          "text": [
            "Euclidean Distance: 5.0\n"
          ]
        }
      ],
      "source": [
        "import math\n",
        "\n",
        "def euclidean_distance(point1, point2):\n",
        "    return math.sqrt(sum((p - q) ** 2 for p, q in zip(point1, point2)))\n",
        "\n",
        "# Example\n",
        "point1 = [2, 3]\n",
        "point2 = [5, 7]\n",
        "distance = euclidean_distance(point1, point2)\n",
        "print(\"Euclidean Distance:\", distance)"
      ]
    }
  ]
}