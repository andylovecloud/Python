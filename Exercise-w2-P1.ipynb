{
 "cells": [
  {
   "cell_type": "markdown",
   "id": "a90b4d65",
   "metadata": {},
   "source": [
    "1.Define two variables and assign them values of 100 and 29. After this, make the interpreter sum up the two numbers and multiply their result by 3. Calculate the 2nd exponent of the previous number and save it to a new variable. \n",
    "Make the program print the result in the following way: \n",
    "    The result of the calculation was:149769 \n",
    "Make sure you use valid variable names and name your variables meaningfully.\n",
    "Make sure that output of yourprogram has indentation as shown in the above example"
   ]
  },
  {
   "cell_type": "code",
   "execution_count": 1,
   "id": "ea32a539",
   "metadata": {},
   "outputs": [
    {
     "name": "stdout",
     "output_type": "stream",
     "text": [
      "The result of the calculation was:  149769\n"
     ]
    }
   ],
   "source": [
    "var1 = 100\n",
    "var2 = 29\n",
    "cal = (var1 + var2) * 3\n",
    "result = cal * cal\n",
    "\n",
    "print (\"The result of the calculation was: \", result)"
   ]
  },
  {
   "cell_type": "markdown",
   "id": "85dcb1f7",
   "metadata": {},
   "source": [
    "2.Write a program that creates a password by asking the user to input their name, age, year of birth. Save all in separate variables using  the right type for each of them. Program should create the password in following way: \n",
    "\n",
    "takes last two digits of year of birth, first 3 letters from name, and the 2nd power of the age according to the example below:\n",
    "\n",
    "Name: John\n",
    "\n",
    "Year of birt: 1995\n",
    "\n",
    "Age: 26\n",
    "\n",
    "Password: 95Joh676\n",
    "\n",
    "Hint: to get the desired output in print() all variableshas to be type str."
   ]
  },
  {
   "cell_type": "code",
   "execution_count": 50,
   "id": "50e8746b",
   "metadata": {
    "scrolled": true
   },
   "outputs": [
    {
     "name": "stdout",
     "output_type": "stream",
     "text": [
      "Please input your name: John\n",
      "Please input your age: 26\n",
      "Please input your Year of Birth: 1995\n",
      "Name:  John\n",
      "Year of birth:  1995\n",
      "Age:  26\n",
      "Password:  95Joh676\n"
     ]
    }
   ],
   "source": [
    "name = input(\"Please input your name: \")\n",
    "age = int(input (\"Please input your age: \"))\n",
    "YOB = str(input(\"Please input your Year of Birth: \"))\n",
    "\n",
    "print(\"Name: \",name)\n",
    "print(\"Year of birth: \",YOB)\n",
    "print(\"Age: \",age)\n",
    "\n",
    "AgeX2= (age**2)\n",
    "\n",
    "password = YOB[2:4] + str(name[0:3]) + str(AgeX2)\n",
    "\n",
    "print (\"Password: \", password)"
   ]
  },
  {
   "cell_type": "markdown",
   "id": "84270ddf",
   "metadata": {},
   "source": [
    "3. Write a program that asks for two numbers. If both numbers are even, the program prints \"Both numbers are even.\" If only one of the numbers is even, the program prints \"One of the numbers is even.\". \n",
    "Finally, if neither of the numbers is even, the program prints \"Both numbers are odd\".\n",
    "\n",
    "First number: 5\n",
    "\n",
    "Second number: 6\n",
    "\n",
    "One of the numbers is even"
   ]
  },
  {
   "cell_type": "code",
   "execution_count": 48,
   "id": "0397de55",
   "metadata": {
    "scrolled": true
   },
   "outputs": [
    {
     "name": "stdout",
     "output_type": "stream",
     "text": [
      "Please input your 1st number : 1\n",
      "Please input your 2nd number : 2\n",
      "One of the numbers is even.\n"
     ]
    }
   ],
   "source": [
    "a = int(input(\"Please input your 1st number : \"))\n",
    "b = int(input(\"Please input your 2nd number : \"))\n",
    "\n",
    "if (a%2) == 0 and (b%2) ==0:\n",
    "    print (\"Both numbers are even.\")\n",
    "elif  a % 2 !=0 and b % 2 != 0:\n",
    "    print (\"Both numbers are odd.\")\n",
    "else: \n",
    "    print(\"One of the numbers is even.\")"
   ]
  },
  {
   "cell_type": "markdown",
   "id": "4b5b69ac",
   "metadata": {},
   "source": [
    "4. Create a program, which asks the user for a number, and calculates the sum of all positive numbers\n",
    "from 0 to the user given input.\n",
    "\n",
    "If the user gives the number 4, the program calculates the sum 0+1+2+3, if 7, the calculation is\n",
    "0+1+2+3+4+5+6.\n",
    "\n",
    "Program operates as bellow:\n",
    "\n",
    "Give an integer: 5\n",
    "\n",
    "The sum was: 10"
   ]
  },
  {
   "cell_type": "code",
   "execution_count": 81,
   "id": "db3c757b",
   "metadata": {},
   "outputs": [
    {
     "name": "stdout",
     "output_type": "stream",
     "text": [
      "Give an integer: \n",
      "5\n",
      "The sum was:  15\n"
     ]
    }
   ],
   "source": [
    "print(\"Give an integer: \")\n",
    "n = int(input())\n",
    "\n",
    "total = int ((n * (n + 1)) / 2)\n",
    "\n",
    "print (\"The sum was: \", total)\n"
   ]
  },
  {
   "cell_type": "markdown",
   "id": "69096fc0",
   "metadata": {},
   "source": [
    "Question 5 will be provided in other file"
   ]
  }
 ],
 "metadata": {
  "kernelspec": {
   "display_name": "Python 3 (ipykernel)",
   "language": "python",
   "name": "python3"
  },
  "language_info": {
   "codemirror_mode": {
    "name": "ipython",
    "version": 3
   },
   "file_extension": ".py",
   "mimetype": "text/x-python",
   "name": "python",
   "nbconvert_exporter": "python",
   "pygments_lexer": "ipython3",
   "version": "3.9.13"
  }
 },
 "nbformat": 4,
 "nbformat_minor": 5
}
