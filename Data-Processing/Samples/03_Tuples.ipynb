{
 "cells": [
  {
   "cell_type": "markdown",
   "id": "bb8ea2c1",
   "metadata": {},
   "source": [
    "\n",
    "# Understanding Tuples in Python\n",
    "\n",
    "In Python, a tuple is a collection of ordered elements that are immutable. This means that once a tuple is created, its elements cannot be changed or modified. Tuples are useful when you need to ensure that the data remains constant throughout the program.\n",
    "\n",
    "## Creating a Tuple\n",
    "\n",
    "You can create a tuple by placing the elements inside parentheses `()`, separated by commas.\n",
    "\n",
    "### Example:\n",
    "```python\n",
    "my_tuple = (1, 2, 3, \"apple\", \"banana\")\n",
    "print(my_tuple)\n",
    "```\n",
    "\n",
    "This will create a tuple with mixed data types (integers and strings).\n"
   ]
  },
  {
   "cell_type": "code",
   "execution_count": 1,
   "id": "03a0b985",
   "metadata": {},
   "outputs": [
    {
     "data": {
      "text/plain": [
       "(1, 2, 3, 'apple', 'banana')"
      ]
     },
     "execution_count": 1,
     "metadata": {},
     "output_type": "execute_result"
    }
   ],
   "source": [
    "\n",
    "# Creating a simple tuple\n",
    "my_tuple = (1, 2, 3, \"apple\", \"banana\")\n",
    "my_tuple\n"
   ]
  },
  {
   "cell_type": "markdown",
   "id": "17463c37",
   "metadata": {},
   "source": [
    "\n",
    "## Accessing Tuple Elements\n",
    "\n",
    "You can access tuple elements using indexing, just like lists. The index starts from 0.\n",
    "\n",
    "### Example:\n",
    "```python\n",
    "print(my_tuple[0])  # First element\n",
    "print(my_tuple[-1]) # Last element\n",
    "```\n",
    "\n",
    "Here, `my_tuple[0]` will return `1`, and `my_tuple[-1]` will return `\"banana\"`.\n"
   ]
  },
  {
   "cell_type": "code",
   "execution_count": 2,
   "id": "b632d662",
   "metadata": {},
   "outputs": [
    {
     "name": "stdout",
     "output_type": "stream",
     "text": [
      "1\n",
      "banana\n"
     ]
    }
   ],
   "source": [
    "\n",
    "# Accessing elements in a tuple\n",
    "print(my_tuple[0])  # First element\n",
    "print(my_tuple[-1]) # Last element\n"
   ]
  },
  {
   "cell_type": "markdown",
   "id": "62affb5b",
   "metadata": {},
   "source": [
    "\n",
    "## Tuple Immutability\n",
    "\n",
    "Tuples are immutable, meaning that once they are created, you cannot modify, add, or remove elements from them. \n",
    "If you attempt to change a tuple element, you will get a `TypeError`.\n",
    "\n",
    "### Example:\n",
    "```python\n",
    "my_tuple[1] = 100\n",
    "```\n",
    "\n",
    "This will raise an error because tuples do not support item assignment.\n"
   ]
  },
  {
   "cell_type": "code",
   "execution_count": 4,
   "id": "4355eea8",
   "metadata": {},
   "outputs": [
    {
     "ename": "TypeError",
     "evalue": "'tuple' object does not support item assignment",
     "output_type": "error",
     "traceback": [
      "\u001b[1;31m---------------------------------------------------------------------------\u001b[0m",
      "\u001b[1;31mTypeError\u001b[0m                                 Traceback (most recent call last)",
      "Cell \u001b[1;32mIn[4], line 1\u001b[0m\n\u001b[1;32m----> 1\u001b[0m \u001b[43mmy_tuple\u001b[49m\u001b[43m[\u001b[49m\u001b[38;5;241;43m1\u001b[39;49m\u001b[43m]\u001b[49m \u001b[38;5;241m=\u001b[39m \u001b[38;5;241m100\u001b[39m\n",
      "\u001b[1;31mTypeError\u001b[0m: 'tuple' object does not support item assignment"
     ]
    }
   ],
   "source": [
    "\n",
    "my_tuple[1] = 100\n"
   ]
  },
  {
   "cell_type": "markdown",
   "id": "eec40c8e",
   "metadata": {},
   "source": [
    "\n",
    "## Tuple Methods\n",
    "\n",
    "Since tuples are immutable, they have fewer methods compared to lists. The most common methods are `count()` and `index()`.\n",
    "\n",
    "- `count()`: Returns the number of times a specified value appears in a tuple.\n",
    "- `index()`: Returns the index of the first occurrence of a specified value.\n",
    "\n",
    "\n"
   ]
  },
  {
   "cell_type": "code",
   "execution_count": 4,
   "id": "63cfbcb9",
   "metadata": {},
   "outputs": [
    {
     "name": "stdout",
     "output_type": "stream",
     "text": [
      "2\n",
      "4\n"
     ]
    }
   ],
   "source": [
    "\n",
    "# Tuple methods: count() and index()\n",
    "my_tuple = (1, 2, 3, \"apple\", \"banana\", \"apple\")\n",
    "print(my_tuple.count(\"apple\"))  # Count occurrences of \"apple\"\n",
    "print(my_tuple.index(\"banana\")) # Find index of \"banana\"\n"
   ]
  }
 ],
 "metadata": {
  "kernelspec": {
   "display_name": "devAI",
   "language": "python",
   "name": "python3"
  },
  "language_info": {
   "codemirror_mode": {
    "name": "ipython",
    "version": 3
   },
   "file_extension": ".py",
   "mimetype": "text/x-python",
   "name": "python",
   "nbconvert_exporter": "python",
   "pygments_lexer": "ipython3",
   "version": "3.11.9"
  }
 },
 "nbformat": 4,
 "nbformat_minor": 5
}
