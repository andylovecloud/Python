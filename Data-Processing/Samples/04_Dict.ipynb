{
 "cells": [
  {
   "cell_type": "markdown",
   "id": "d6d5a629",
   "metadata": {},
   "source": [
    "\n",
    "# Understanding Dictionaries in Python\n",
    "\n",
    "In Python, a dictionary is an unordered collection of data values, used to store data values like a map, i.e., key:value pairs. A dictionary is mutable, meaning you can change its content after creation. Each key must be unique, but the values can be duplicated.\n",
    "\n",
    "## Creating a Dictionary\n",
    "\n",
    "You can create a dictionary by placing key-value pairs inside curly braces `{}`, with a colon `:` separating the key and value.\n",
    "\n",
    "### Example:\n",
    "```python\n",
    "my_dict = {\"name\": \"John\", \"age\": 25, \"city\": \"New York\"}\n",
    "print(my_dict)\n",
    "```\n",
    "\n",
    "This will create a dictionary with three key-value pairs.\n"
   ]
  },
  {
   "cell_type": "code",
   "execution_count": 1,
   "id": "aa25c4ca",
   "metadata": {},
   "outputs": [
    {
     "data": {
      "text/plain": [
       "{'name': 'John', 'age': 25, 'city': 'New York'}"
      ]
     },
     "execution_count": 1,
     "metadata": {},
     "output_type": "execute_result"
    }
   ],
   "source": [
    "\n",
    "# Creating a simple dictionary\n",
    "my_dict = {\"name\": \"John\", \"age\": 25, \"city\": \"New York\"}\n",
    "my_dict\n"
   ]
  },
  {
   "cell_type": "markdown",
   "id": "b7da0dec",
   "metadata": {},
   "source": [
    "\n",
    "## Accessing Dictionary Values\n",
    "\n",
    "You can access values in a dictionary by referring to their keys. Use square brackets `[]` to look up the value associated with a key.\n",
    "\n",
    "### Example:\n",
    "```python\n",
    "print(my_dict[\"name\"])  # Access value for the key 'name'\n",
    "```\n",
    "\n",
    "This will return the value `\"John\"`.\n"
   ]
  },
  {
   "cell_type": "code",
   "execution_count": 2,
   "id": "9ef50630",
   "metadata": {},
   "outputs": [
    {
     "data": {
      "text/plain": [
       "'John'"
      ]
     },
     "execution_count": 2,
     "metadata": {},
     "output_type": "execute_result"
    }
   ],
   "source": [
    "\n",
    "# Accessing elements in the dictionary\n",
    "my_dict[\"name\"]\n"
   ]
  },
  {
   "cell_type": "markdown",
   "id": "023e404d",
   "metadata": {},
   "source": [
    "\n",
    "## Adding or Updating Dictionary Elements\n",
    "\n",
    "You can add new key-value pairs or update existing ones by assigning a value to a key. If the key already exists, the value will be updated; if not, a new key-value pair will be added.\n",
    "\n",
    "### Example:\n",
    "```python\n",
    "my_dict[\"age\"] = 30  # Update existing key\n",
    "my_dict[\"country\"] = \"USA\"  # Add new key\n",
    "print(my_dict)\n",
    "```\n",
    "\n",
    "Here, we updated the `age` and added a new key `country`.\n"
   ]
  },
  {
   "cell_type": "code",
   "execution_count": 3,
   "id": "c33ce703",
   "metadata": {},
   "outputs": [
    {
     "data": {
      "text/plain": [
       "{'name': 'John', 'age': 30, 'city': 'New York', 'country': 'USA'}"
      ]
     },
     "execution_count": 3,
     "metadata": {},
     "output_type": "execute_result"
    }
   ],
   "source": [
    "\n",
    "# Adding and updating dictionary elements\n",
    "my_dict[\"age\"] = 30  # Update age\n",
    "my_dict[\"country\"] = \"USA\"  # Add a new key-value pair\n",
    "my_dict\n"
   ]
  },
  {
   "cell_type": "markdown",
   "id": "e06b72e4",
   "metadata": {},
   "source": [
    "\n",
    "## Common Dictionary Methods\n",
    "\n",
    "Dictionaries come with several useful methods. Below are a few commonly used methods:\n",
    "\n",
    "- `get()`: Returns the value of a specified key.\n",
    "- `keys()`: Returns a list of all the keys in the dictionary.\n",
    "- `values()`: Returns a list of all the values in the dictionary.\n",
    "- `items()`: Returns a list of tuples, where each tuple is a key-value pair.\n",
    "\n",
    "### Example:\n",
    "```python\n",
    "print(my_dict.get(\"name\"))   # Get the value for key 'name'\n",
    "print(my_dict.keys())        # Get all keys\n",
    "print(my_dict.values())      # Get all values\n",
    "print(my_dict.items())       # Get all key-value pairs\n",
    "```\n"
   ]
  },
  {
   "cell_type": "code",
   "execution_count": 4,
   "id": "b8084ca6",
   "metadata": {},
   "outputs": [
    {
     "name": "stdout",
     "output_type": "stream",
     "text": [
      "John\n",
      "dict_keys(['name', 'age', 'city', 'country'])\n",
      "dict_values(['John', 30, 'New York', 'USA'])\n",
      "dict_items([('name', 'John'), ('age', 30), ('city', 'New York'), ('country', 'USA')])\n"
     ]
    }
   ],
   "source": [
    "\n",
    "# Using common dictionary methods\n",
    "print(my_dict.get(\"name\"))   # Get the value for key 'name'\n",
    "print(my_dict.keys())        # Get all keys\n",
    "print(my_dict.values())      # Get all values\n",
    "print(my_dict.items())       # Get all key-value pairs\n"
   ]
  }
 ],
 "metadata": {
  "kernelspec": {
   "display_name": "devAI",
   "language": "python",
   "name": "python3"
  },
  "language_info": {
   "codemirror_mode": {
    "name": "ipython",
    "version": 3
   },
   "file_extension": ".py",
   "mimetype": "text/x-python",
   "name": "python",
   "nbconvert_exporter": "python",
   "pygments_lexer": "ipython3",
   "version": "3.12.5"
  }
 },
 "nbformat": 4,
 "nbformat_minor": 5
}
