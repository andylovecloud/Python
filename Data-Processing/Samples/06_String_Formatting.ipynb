{
 "cells": [
  {
   "cell_type": "markdown",
   "id": "8eea7db2",
   "metadata": {},
   "source": [
    "\n",
    "# String Formatting in Python\n",
    "\n",
    "String formatting in Python allows you to construct and manipulate strings by embedding variables, expressions, or even entire formats within string templates. There are several ways to format strings in Python, and in this notebook, we will cover the most common methods, including:\n",
    "\n",
    "- **Old-style (`%`) formatting**\n",
    "- **`str.format()` method**\n",
    "- **f-strings (formatted string literals)**\n",
    "\n",
    "## Old-style (`%`) Formatting\n",
    "\n",
    "In earlier versions of Python, the `%` operator was used for string formatting. It allows you to insert values into a string placeholder marked by `%`.\n",
    "\n",
    "### Example:\n",
    "```python\n",
    "name = \"Alice\"\n",
    "age = 30\n",
    "print(\"My name is %s and I am %d years old.\" % (name, age))\n",
    "```\n",
    "\n",
    "Here, `%s` is used as a placeholder for a string, and `%d` is used as a placeholder for an integer.\n"
   ]
  },
  {
   "cell_type": "code",
   "execution_count": 1,
   "id": "622098be",
   "metadata": {},
   "outputs": [
    {
     "name": "stdout",
     "output_type": "stream",
     "text": [
      "My name is Alice and I am 30 years old.\n"
     ]
    }
   ],
   "source": [
    "\n",
    "# Old-style formatting example\n",
    "name = \"Alice\"\n",
    "age = 30\n",
    "print(\"My name is %s and I am %d years old.\" % (name, age))\n"
   ]
  },
  {
   "cell_type": "markdown",
   "id": "8f45a66b",
   "metadata": {},
   "source": [
    "\n",
    "## Using `str.format()` Method\n",
    "\n",
    "The `str.format()` method is a more modern way to format strings. You can use curly braces `{}` as placeholders, and the values are passed into the `format()` method in the same order.\n",
    "\n",
    "### Example:\n",
    "```python\n",
    "name = \"Alice\"\n",
    "age = 30\n",
    "print(\"My name is {} and I am {} years old.\".format(name, age))\n",
    "```\n",
    "\n",
    "You can also use indexed placeholders to control the order of values:\n",
    "```python\n",
    "print(\"My name is {1} and I am {0} years old.\".format(age, name))\n",
    "```\n"
   ]
  },
  {
   "cell_type": "code",
   "execution_count": 2,
   "id": "d09c8698",
   "metadata": {},
   "outputs": [
    {
     "name": "stdout",
     "output_type": "stream",
     "text": [
      "My name is Alice and I am 30 years old.\n",
      "My name is Alice and I am 30 years old.\n"
     ]
    }
   ],
   "source": [
    "\n",
    "# Using str.format() method\n",
    "name = \"Alice\"\n",
    "age = 30\n",
    "print(\"My name is {} and I am {} years old.\".format(name, age))\n",
    "print(\"My name is {1} and I am {0} years old.\".format(age, name))  # Using indexed placeholders\n"
   ]
  },
  {
   "cell_type": "markdown",
   "id": "2cb72f76",
   "metadata": {},
   "source": [
    "\n",
    "## Using f-strings (Formatted String Literals)\n",
    "\n",
    "f-strings (available from Python 3.6 onward) provide an even more concise and readable way to format strings. You simply prefix the string with an `f` or `F`, and embed expressions inside curly braces `{}`.\n",
    "\n",
    "### Example:\n",
    "```python\n",
    "name = \"Alice\"\n",
    "age = 30\n",
    "print(f\"My name is {name} and I am {age} years old.\")\n",
    "```\n",
    "\n",
    "You can also perform calculations or use expressions inside the curly braces:\n",
    "```python\n",
    "print(f\"Next year, I will be {age + 1} years old.\")\n",
    "```\n"
   ]
  },
  {
   "cell_type": "code",
   "execution_count": 3,
   "id": "ff43293e",
   "metadata": {},
   "outputs": [
    {
     "name": "stdout",
     "output_type": "stream",
     "text": [
      "My name is Alice and I am 30 years old.\n",
      "Next year, I will be 31 years old.\n"
     ]
    }
   ],
   "source": [
    "\n",
    "# Using f-strings (formatted string literals)\n",
    "name = \"Alice\"\n",
    "age = 30\n",
    "print(f\"My name is {name} and I am {age} years old.\")\n",
    "print(f\"Next year, I will be {age + 1} years old.\")\n"
   ]
  }
 ],
 "metadata": {
  "kernelspec": {
   "display_name": "devAI",
   "language": "python",
   "name": "python3"
  },
  "language_info": {
   "codemirror_mode": {
    "name": "ipython",
    "version": 3
   },
   "file_extension": ".py",
   "mimetype": "text/x-python",
   "name": "python",
   "nbconvert_exporter": "python",
   "pygments_lexer": "ipython3",
   "version": "3.12.5"
  }
 },
 "nbformat": 4,
 "nbformat_minor": 5
}
