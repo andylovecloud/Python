{
 "cells": [
  {
   "cell_type": "markdown",
   "id": "010d7d2c",
   "metadata": {},
   "source": [
    "\n",
    "# Understanding Slicing in Python\n",
    "\n",
    "Slicing is a powerful feature in Python that allows you to extract specific parts of sequences like lists, tuples, and strings. \n",
    "With slicing, you can extract a portion of a sequence, whether it’s to access a range of elements or to reverse the sequence.\n",
    "\n",
    "## Basic Syntax of Slicing\n",
    "\n",
    "The basic syntax of slicing is:\n",
    "```python\n",
    "sequence[start:stop:step]\n",
    "```\n",
    "\n",
    "- **start**: The index at which the slicing begins (inclusive). If not specified, defaults to the start of the sequence (index 0).\n",
    "- **stop**: The index at which the slicing ends (exclusive). The element at this index is not included in the slice.\n",
    "- **step**: The step size, which determines the interval of the elements to pick. If not specified, defaults to 1.\n",
    "\n",
    "Let’s explore some examples to understand slicing better.\n"
   ]
  },
  {
   "cell_type": "code",
   "execution_count": 1,
   "id": "275eb493",
   "metadata": {},
   "outputs": [
    {
     "name": "stdout",
     "output_type": "stream",
     "text": [
      "[2, 3, 4, 5, 6]\n"
     ]
    }
   ],
   "source": [
    "\n",
    "# Basic slicing example\n",
    "my_list = [0, 1, 2, 3, 4, 5, 6, 7, 8, 9]\n",
    "print(my_list[2:7])  # Extracts elements from index 2 to 6 (from 7 is excluded)\n"
   ]
  },
  {
   "cell_type": "markdown",
   "id": "d4d23da5",
   "metadata": {},
   "source": [
    "\n",
    "## Using Negative Indexing with Slicing\n",
    "\n",
    "Python allows you to use negative indices to slice sequences from the end. \n",
    "For example, `-1` refers to the last element, `-2` to the second-to-last element, and so on.\n",
    "\n",
    "### Example:\n",
    "```python\n",
    "print(my_list[-5:-1])\n",
    "```\n",
    "This will extract the last 4 elements (excluding the very last element) from the list.\n"
   ]
  },
  {
   "cell_type": "code",
   "execution_count": 2,
   "id": "ddcee58d",
   "metadata": {},
   "outputs": [
    {
     "name": "stdout",
     "output_type": "stream",
     "text": [
      "[5, 6, 7, 8]\n"
     ]
    }
   ],
   "source": [
    "\n",
    "# Negative indexing with slicing\n",
    "print(my_list[-5:-1])  # Extracts the last 4 elements (excluding the last one)\n"
   ]
  },
  {
   "cell_type": "markdown",
   "id": "a0fe8455",
   "metadata": {},
   "source": [
    "\n",
    "## Using Step in Slicing\n",
    "\n",
    "You can control the step size in slicing, which tells Python how many elements to skip. By default, the step is 1, meaning every element is included in the slice. A step of 2 will take every second element, and a negative step will reverse the order.\n",
    "\n",
    "### Example:\n",
    "```python\n",
    "print(my_list[::2])  # Takes every second element (step of 2)\n",
    "print(my_list[::-1]) # Reverses the list (step of -1)\n",
    "```\n"
   ]
  },
  {
   "cell_type": "code",
   "execution_count": 3,
   "id": "b3a0d531",
   "metadata": {},
   "outputs": [
    {
     "name": "stdout",
     "output_type": "stream",
     "text": [
      "[0, 2, 4, 6, 8]\n",
      "[9, 8, 7, 6, 5, 4, 3, 2, 1, 0]\n"
     ]
    }
   ],
   "source": [
    "\n",
    "# Step slicing\n",
    "print(my_list[::2])  # Takes every second element\n",
    "print(my_list[::-1]) # Reverses the list\n"
   ]
  },
  {
   "cell_type": "markdown",
   "id": "c902777e",
   "metadata": {},
   "source": [
    "\n",
    "## Omitting Start or Stop Values in Slicing\n",
    "\n",
    "When you omit the `start` or `stop` values in slicing, Python will assume the defaults. If `start` is omitted, it defaults to the beginning of the sequence. If `stop` is omitted, it defaults to the end of the sequence.\n",
    "\n",
    "### Example:\n",
    "```python\n",
    "print(my_list[:5])   # Omits start, so starts from index 0 to 4\n",
    "print(my_list[5:])   # Omits stop, so goes from index 5 to the end\n",
    "```\n"
   ]
  },
  {
   "cell_type": "code",
   "execution_count": 4,
   "id": "29d99e14",
   "metadata": {},
   "outputs": [
    {
     "name": "stdout",
     "output_type": "stream",
     "text": [
      "[0, 1, 2, 3, 4]\n",
      "[5, 6, 7, 8, 9]\n"
     ]
    }
   ],
   "source": [
    "\n",
    "# Omitting start or stop values in slicing\n",
    "print(my_list[:5])   # Slices from the start to index 4\n",
    "print(my_list[5:])   # Slices from index 5 to the end\n"
   ]
  },
  {
   "cell_type": "markdown",
   "id": "d227563b",
   "metadata": {},
   "source": [
    "\n",
    "## Slicing Strings\n",
    "\n",
    "Slicing works not just for lists and tuples but also for strings. Since strings are sequences of characters, you can slice them just like any other sequence.\n",
    "\n",
    "### Example:\n",
    "```python\n",
    "my_string = \"Hello, World!\"\n",
    "print(my_string[7:12])  # Extracts the substring \"World\"\n",
    "```\n"
   ]
  },
  {
   "cell_type": "code",
   "execution_count": 5,
   "id": "107029cf",
   "metadata": {},
   "outputs": [
    {
     "name": "stdout",
     "output_type": "stream",
     "text": [
      "World\n"
     ]
    }
   ],
   "source": [
    "\n",
    "# Slicing strings\n",
    "my_string = \"Hello, World!\"\n",
    "print(my_string[7:12])  # Extracts \"World\"\n"
   ]
  }
 ],
 "metadata": {
  "kernelspec": {
   "display_name": "devAI",
   "language": "python",
   "name": "python3"
  },
  "language_info": {
   "codemirror_mode": {
    "name": "ipython",
    "version": 3
   },
   "file_extension": ".py",
   "mimetype": "text/x-python",
   "name": "python",
   "nbconvert_exporter": "python",
   "pygments_lexer": "ipython3",
   "version": "3.12.5"
  }
 },
 "nbformat": 4,
 "nbformat_minor": 5
}
