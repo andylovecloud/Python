{
 "cells": [
  {
   "cell_type": "markdown",
   "id": "fc531ee4",
   "metadata": {},
   "source": [
    "\n",
    "# Working with Lists in Python\n",
    "\n",
    "This notebook explores common operations performed on Python lists, such as indexing, modifying, iterating, and combining lists. \n",
    "Lists are one of the most versatile data types in Python, and understanding how to work with them is essential for efficient programming.\n",
    "\n",
    "We'll cover:\n",
    "- Basic list operations\n",
    "- Indexing and slicing\n",
    "- Modifying lists\n",
    "- Conditional checks in lists\n",
    "- Iterating over lists\n",
    "- Combining lists\n"
   ]
  },
  {
   "cell_type": "markdown",
   "id": "62cf31e7",
   "metadata": {},
   "source": [
    "\n",
    "## Basic List Operations\n",
    "\n",
    "Let's start with some simple lists containing integers, floats, and strings. \n",
    "You can access individual elements by their index, starting from 0 (Python uses 0-based indexing). \n",
    "You can also work with nested lists, where each element can itself be a list.\n"
   ]
  },
  {
   "cell_type": "code",
   "execution_count": 1,
   "metadata": {},
   "outputs": [
    {
     "data": {
      "text/plain": [
       "'Dewey'"
      ]
     },
     "execution_count": 1,
     "metadata": {},
     "output_type": "execute_result"
    }
   ],
   "source": [
    "i=[4,5,6]\n",
    "f=[4.33, 5.44, 6.55]\n",
    "s=['Huey','Dewey','Louie']\n",
    "n=[[4,5], [6,7],['This', 'is', 'weird']]\n",
    "i[2]\n",
    "f[0]\n",
    "s[1]"
   ]
  },
  {
   "cell_type": "markdown",
   "id": "cc3a0c26",
   "metadata": {},
   "source": [
    "\n",
    "## Indexing and Slicing\n",
    "\n",
    "Lists can be indexed and sliced to access individual elements or sublists. You can also use negative indexing to access elements from the end of the list.\n",
    "Below is an example that demonstrates accessing elements using positive and negative indices.\n"
   ]
  },
  {
   "cell_type": "code",
   "execution_count": 2,
   "metadata": {},
   "outputs": [
    {
     "data": {
      "text/plain": [
       "'weird'"
      ]
     },
     "execution_count": 2,
     "metadata": {},
     "output_type": "execute_result"
    }
   ],
   "source": [
    "n = [[4,5], [6,7], ['This','is', 'weird']]\n",
    "n[2][2]"
   ]
  },
  {
   "cell_type": "code",
   "execution_count": 3,
   "metadata": {},
   "outputs": [
    {
     "data": {
      "text/plain": [
       "14"
      ]
     },
     "execution_count": 3,
     "metadata": {},
     "output_type": "execute_result"
    }
   ],
   "source": [
    "i = 2 \n",
    "seq = [2,4,6,8,10,12,14]\n",
    "seq[i]\n",
    "seq[i*2]\n",
    "seq[i%2]\n",
    "seq[-1]\n",
    "seq[6]"
   ]
  },
  {
   "cell_type": "markdown",
   "id": "c3ed75e9",
   "metadata": {},
   "source": [
    "\n",
    "## Modifying Lists\n",
    "\n",
    "Lists are mutable, which means you can change their content. \n",
    "In this example, we replace one of the elements in the list using its index.\n"
   ]
  },
  {
   "cell_type": "code",
   "execution_count": 4,
   "metadata": {},
   "outputs": [
    {
     "data": {
      "text/plain": [
       "['Moe', 'Larry', 'Shemp']"
      ]
     },
     "execution_count": 4,
     "metadata": {},
     "output_type": "execute_result"
    }
   ],
   "source": [
    "stooges = ['Moe','Larry','Curly']\n",
    "stooges\n",
    "stooges[2] = 'Shemp'\n",
    "stooges"
   ]
  },
  {
   "cell_type": "markdown",
   "id": "be2b4631",
   "metadata": {},
   "source": [
    "\n",
    "## Iterating Over Lists\n",
    "\n",
    "There are multiple ways to iterate over lists in Python. The simplest method is to use a `for` loop, where you can access each element one by one.\n",
    "In the next example, we iterate over the list of `stooges` and print each name.\n"
   ]
  },
  {
   "cell_type": "code",
   "execution_count": 6,
   "metadata": {},
   "outputs": [
    {
     "name": "stdout",
     "output_type": "stream",
     "text": [
      "Moe\n",
      "Larry\n",
      "Curly\n"
     ]
    }
   ],
   "source": [
    "stooges = ['Moe','Larry','Curly']\n",
    "for stooge in stooges:\n",
    "    print(stooge)"
   ]
  },
  {
   "cell_type": "markdown",
   "id": "620e1c86",
   "metadata": {},
   "source": [
    "\n",
    "## Conditional Checks in Lists\n",
    "\n",
    "You can use conditionals to check if an element exists in a list. \n",
    "Here, we check if a specific value (`Curly`) is present in the list and print a message if it's found.\n"
   ]
  },
  {
   "cell_type": "code",
   "execution_count": 7,
   "metadata": {},
   "outputs": [
    {
     "name": "stdout",
     "output_type": "stream",
     "text": [
      "['Moe', 'Larry', 'Shemp']\n"
     ]
    }
   ],
   "source": [
    "stooges = ['Moe','Larry','Curly']\n",
    "for i in range(len(stooges)):\n",
    "   if stooges[i] == 'Curly':\n",
    "      stooges[i] = 'Shemp'\n",
    "print(stooges)"
   ]
  },
  {
   "cell_type": "markdown",
   "id": "805db4b1",
   "metadata": {},
   "source": [
    "\n",
    "## Combining Lists\n",
    "\n",
    "Lists can easily be combined using the `+` operator. The following example demonstrates how to concatenate two lists.\n"
   ]
  },
  {
   "cell_type": "code",
   "execution_count": 8,
   "metadata": {},
   "outputs": [
    {
     "data": {
      "text/plain": [
       "[1, 3, 5, 2, 4, 6]"
      ]
     },
     "execution_count": 8,
     "metadata": {},
     "output_type": "execute_result"
    }
   ],
   "source": [
    "a = [1,3,5]\n",
    "b = [2,4,6]\n",
    "\n",
    "a + b"
   ]
  }
 ],
 "metadata": {
  "kernelspec": {
   "display_name": "Python 3.9.5 ('hamkdpp': venv)",
   "language": "python",
   "name": "python3"
  },
  "language_info": {
   "codemirror_mode": {
    "name": "ipython",
    "version": 3
   },
   "file_extension": ".py",
   "mimetype": "text/x-python",
   "name": "python",
   "nbconvert_exporter": "python",
   "pygments_lexer": "ipython3",
   "version": "3.11.4"
  },
  "vscode": {
   "interpreter": {
    "hash": "f37ace324e77e76b17a78f9d135d5eaf5a4f94d885f9461276a8cffaa444125f"
   }
  }
 },
 "nbformat": 4,
 "nbformat_minor": 2
}
