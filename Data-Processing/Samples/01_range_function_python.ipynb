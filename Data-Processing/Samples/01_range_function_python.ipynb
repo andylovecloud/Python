{
 "cells": [
  {
   "cell_type": "markdown",
   "id": "e54feb46",
   "metadata": {},
   "source": [
    "\n",
    "# Understanding the `range()` Function in Python\n",
    "\n",
    "In this notebook, we will explore the `range()` function, which is commonly used in Python for generating sequences of numbers. The `range()` function is particularly useful when combined with loops, such as `for` loops, to iterate over a sequence.\n",
    "\n",
    "## Basic Usage of `range()`\n",
    "\n",
    "The simplest way to use `range()` is by passing a single argument, which represents the stopping point (exclusive). The sequence will start from 0 by default.\n",
    "\n",
    "### Example:\n",
    "```python\n",
    "range(5)\n",
    "list(range(5))\n",
    "```\n",
    "\n",
    "The first line returns a `range` object, while the second line converts it to a list for a clearer visualization:\n"
   ]
  },
  {
   "cell_type": "code",
   "execution_count": 1,
   "id": "581cb945",
   "metadata": {},
   "outputs": [
    {
     "data": {
      "text/plain": [
       "[0, 1, 2, 3, 4]"
      ]
     },
     "execution_count": 1,
     "metadata": {},
     "output_type": "execute_result"
    }
   ],
   "source": [
    "\n",
    "# Basic range example\n",
    "range(5)\n",
    "list(range(5))\n"
   ]
  },
  {
   "cell_type": "markdown",
   "id": "a2951edc",
   "metadata": {},
   "source": [
    "\n",
    "## Iterating with `for` Loops and `range()`\n",
    "\n",
    "In Python, the syntax for the `for` loop is different from other languages like Java or C#. It's more similar to a `foreach` loop in those languages.\n",
    "\n",
    "For example, a typical loop in C# or Java might look like this:\n",
    "```java\n",
    "for (int i = 0; i < 5; i++) {\n",
    "    System.out.println(i);\n",
    "}\n",
    "```\n",
    "\n",
    "In Python, you would use the `range()` function to achieve the same result:\n",
    "```python\n",
    "for i in range(5):\n",
    "    print(i)\n",
    "```\n",
    "\n",
    "The `range(5)` generates numbers from 0 to 4, and the `for` loop prints each value.\n",
    "\n",
    "### Example:\n"
   ]
  },
  {
   "cell_type": "code",
   "execution_count": 2,
   "id": "6bf15e43",
   "metadata": {},
   "outputs": [
    {
     "name": "stdout",
     "output_type": "stream",
     "text": [
      "0\n",
      "1\n",
      "2\n",
      "3\n",
      "4\n"
     ]
    }
   ],
   "source": [
    "\n",
    "# Using range() in a for loop\n",
    "for i in range(5):\n",
    "    print(i)\n"
   ]
  },
  {
   "cell_type": "markdown",
   "id": "10c42559",
   "metadata": {},
   "source": [
    "\n",
    "## Using the Step Argument in `range()`\n",
    "\n",
    "The `range()` function can also take a third argument, which specifies the step size. This allows you to generate numbers that are spaced apart by the step value.\n",
    "\n",
    "For example, the following code will generate numbers from 0 to 10, incrementing by 2:\n",
    "```python\n",
    "for i in range(0, 10, 2):\n",
    "    print(i)\n",
    "```\n",
    "In this case, the `range(0, 10, 2)` produces the sequence 0, 2, 4, 6, 8.\n"
   ]
  },
  {
   "cell_type": "code",
   "execution_count": 3,
   "id": "b9927514",
   "metadata": {},
   "outputs": [
    {
     "name": "stdout",
     "output_type": "stream",
     "text": [
      "0\n",
      "2\n",
      "4\n",
      "6\n",
      "8\n"
     ]
    }
   ],
   "source": [
    "\n",
    "# Using range() with a step argument\n",
    "for i in range(0, 10, 2):\n",
    "    print(i)\n"
   ]
  }
 ],
 "metadata": {
  "kernelspec": {
   "display_name": "devAI",
   "language": "python",
   "name": "python3"
  },
  "language_info": {
   "codemirror_mode": {
    "name": "ipython",
    "version": 3
   },
   "file_extension": ".py",
   "mimetype": "text/x-python",
   "name": "python",
   "nbconvert_exporter": "python",
   "pygments_lexer": "ipython3",
   "version": "3.12.5"
  }
 },
 "nbformat": 4,
 "nbformat_minor": 5
}
