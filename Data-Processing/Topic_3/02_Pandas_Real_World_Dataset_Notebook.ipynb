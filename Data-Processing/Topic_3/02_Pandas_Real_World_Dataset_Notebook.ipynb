{
 "cells": [
  {
   "cell_type": "markdown",
   "id": "dfedfcf1",
   "metadata": {},
   "source": [
    "# Pandas with Real-World Dataset\n",
    "\n",
    "In this notebook, we will apply Pandas to a real-world dataset. You will learn how to load, explore, clean, and analyze the data. The dataset used in this notebook is related to workplace satisfaction.\n",
    "\n",
    "### Steps Covered:\n",
    "1. Loading a dataset\n",
    "2. Exploring the dataset\n",
    "3. Handling missing values\n",
    "4. Analyzing the data\n",
    "5. Visualizing insights"
   ]
  },
  {
   "cell_type": "markdown",
   "id": "5bb02113",
   "metadata": {},
   "source": [
    "## 1. Loading a Dataset\n",
    "We'll start by loading the dataset using Pandas. For this example, the dataset is in CSV format."
   ]
  },
  {
   "cell_type": "code",
   "execution_count": null,
   "id": "809384cc",
   "metadata": {},
   "outputs": [],
   "source": [
    "# Loading a CSV file\n",
    "import pandas as pd\n",
    "df = pd.read_csv('workplace_satisfaction.csv')  # Replace with actual path\n",
    "df.head()"
   ]
  },
  {
   "cell_type": "markdown",
   "id": "0d584d7e",
   "metadata": {},
   "source": [
    "## 2. Exploring the Dataset\n",
    "It's essential to understand the structure of the dataset before proceeding with any analysis. We'll look at the data types, check for missing values, and view basic statistics."
   ]
  },
  {
   "cell_type": "code",
   "execution_count": null,
   "id": "4ca58022",
   "metadata": {},
   "outputs": [],
   "source": [
    "# Check the data types of each column\n",
    "df.info()"
   ]
  },
  {
   "cell_type": "code",
   "execution_count": null,
   "id": "d1b35259",
   "metadata": {},
   "outputs": [],
   "source": [
    "# Get basic statistics for numeric columns\n",
    "df.describe()"
   ]
  },
  {
   "cell_type": "code",
   "execution_count": null,
   "id": "cac9f09f",
   "metadata": {},
   "outputs": [],
   "source": [
    "# Check for missing values\n",
    "df.isna().sum()"
   ]
  },
  {
   "cell_type": "markdown",
   "id": "eaf15443",
   "metadata": {},
   "source": [
    "## 3. Handling Missing Values\n",
    "If there are any missing values in the dataset, we need to decide how to handle them. In this case, we will fill missing values with the median for numeric columns and the mode for categorical columns."
   ]
  },
  {
   "cell_type": "code",
   "execution_count": null,
   "id": "4565b415",
   "metadata": {},
   "outputs": [],
   "source": [
    "# Filling missing numeric values with median\n",
    "df.fillna(df.median(numeric_only=True), inplace=True)\n",
    "# Filling missing categorical values with mode\n",
    "df.fillna(df.mode().iloc[0], inplace=True)\n",
    "# Verify there are no more missing values\n",
    "df.isna().sum()"
   ]
  },
  {
   "cell_type": "markdown",
   "id": "83311a23",
   "metadata": {},
   "source": [
    "## 4. Analyzing the Data\n",
    "Now that the data is clean, we can perform some basic analysis. Let's analyze the distribution of workplace satisfaction scores by department."
   ]
  },
  {
   "cell_type": "code",
   "execution_count": null,
   "id": "5f43edc7",
   "metadata": {},
   "outputs": [],
   "source": [
    "# Grouping data by department and calculating mean satisfaction scores\n",
    "satisfaction_by_department = df.groupby('Department')['Satisfaction Score'].mean()\n",
    "satisfaction_by_department"
   ]
  },
  {
   "cell_type": "markdown",
   "id": "0e17bf35",
   "metadata": {},
   "source": [
    "## 5. Visualizing Insights\n",
    "Visualizing data helps to better understand trends and patterns. We will create a bar plot to visualize the satisfaction scores by department."
   ]
  },
  {
   "cell_type": "code",
   "execution_count": null,
   "id": "2d970dba",
   "metadata": {},
   "outputs": [],
   "source": [
    "import matplotlib.pyplot as plt\n",
    "# Bar plot for satisfaction by department\n",
    "satisfaction_by_department.plot(kind='bar', color='skyblue')\n",
    "plt.title('Average Satisfaction Score by Department')\n",
    "plt.ylabel('Satisfaction Score')\n",
    "plt.xlabel('Department')\n",
    "plt.show()"
   ]
  }
 ],
 "metadata": {
  "kernelspec": {
   "display_name": "devAI",
   "language": "python",
   "name": "python3"
  },
  "language_info": {
   "codemirror_mode": {
    "name": "ipython",
    "version": 3
   },
   "file_extension": ".py",
   "mimetype": "text/x-python",
   "name": "python",
   "nbconvert_exporter": "python",
   "pygments_lexer": "ipython3",
   "version": "3.12.5"
  }
 },
 "nbformat": 4,
 "nbformat_minor": 5
}
