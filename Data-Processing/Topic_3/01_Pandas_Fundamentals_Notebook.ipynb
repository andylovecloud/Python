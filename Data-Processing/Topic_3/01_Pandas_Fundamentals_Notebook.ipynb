{
 "cells": [
  {
   "cell_type": "markdown",
   "id": "854cff3f",
   "metadata": {},
   "source": [
    "# Pandas Fundamentals\n",
    "\n",
    "Pandas is a Python library for data manipulation and analysis. It provides data structures like Series and DataFrames to efficiently handle and analyze data. This notebook will introduce you to the fundamental concepts of Pandas and guide you through creating and manipulating data structures."
   ]
  },
  {
   "cell_type": "markdown",
   "id": "d4a72f5c",
   "metadata": {},
   "source": [
    "## 1. Introduction to Pandas\n",
    "To use Pandas, first, you need to import the library:"
   ]
  },
  {
   "cell_type": "code",
   "execution_count": 1,
   "id": "4e497e7c",
   "metadata": {},
   "outputs": [],
   "source": [
    "import pandas as pd"
   ]
  },
  {
   "cell_type": "markdown",
   "id": "4b580732",
   "metadata": {},
   "source": [
    "## 2. Series\n",
    "A Series is a one-dimensional array-like object that can hold any data type (integers, strings, floats, etc.). It is similar to a column in a spreadsheet.\n",
    "Let's create a simple Series:"
   ]
  },
  {
   "cell_type": "code",
   "execution_count": null,
   "id": "90c4f0de",
   "metadata": {},
   "outputs": [],
   "source": [
    "# Creating a Series\n",
    "s = pd.Series([10, 20, 30, 40, 50])\n",
    "print(s)"
   ]
  },
  {
   "cell_type": "markdown",
   "id": "d1862c35",
   "metadata": {},
   "source": [
    "You can also create a Series with custom indices:"
   ]
  },
  {
   "cell_type": "code",
   "execution_count": null,
   "id": "2bf86431",
   "metadata": {},
   "outputs": [],
   "source": [
    "# Creating a Series with custom indices\n",
    "s = pd.Series([10, 20, 30, 40, 50], index=['a', 'b', 'c', 'd', 'e'])\n",
    "print(s)"
   ]
  },
  {
   "cell_type": "markdown",
   "id": "ec73aabd",
   "metadata": {},
   "source": [
    "## 3. DataFrame\n",
    "A DataFrame is a two-dimensional, size-mutable, and heterogeneous tabular data structure with labeled axes (rows and columns).\n",
    "Here’s how to create a DataFrame:"
   ]
  },
  {
   "cell_type": "code",
   "execution_count": null,
   "id": "a37cd021",
   "metadata": {},
   "outputs": [],
   "source": [
    "# Creating a DataFrame from a dictionary\n",
    "data = {'Name': ['Alice', 'Bob', 'Charlie', 'David'],\n",
    "        'Age': [25, 30, 35, 40],\n",
    "        'City': ['New York', 'Los Angeles', 'Chicago', 'Houston']}\n",
    "df = pd.DataFrame(data)\n",
    "print(df)"
   ]
  },
  {
   "cell_type": "markdown",
   "id": "ff4b1938",
   "metadata": {},
   "source": [
    "## 4. Basic Operations on DataFrame\n",
    "You can perform a variety of operations on a DataFrame. Here are a few basic ones:\n",
    "\n",
    "- Accessing columns:"
   ]
  },
  {
   "cell_type": "code",
   "execution_count": null,
   "id": "a4280d2e",
   "metadata": {},
   "outputs": [],
   "source": [
    "# Accessing a column\n",
    "print(df['Name'])"
   ]
  },
  {
   "cell_type": "markdown",
   "id": "ef266571",
   "metadata": {},
   "source": [
    "- Adding a new column:"
   ]
  },
  {
   "cell_type": "code",
   "execution_count": null,
   "id": "c2ae1778",
   "metadata": {},
   "outputs": [],
   "source": [
    "# Adding a new column\n",
    "df['Salary'] = [50000, 60000, 70000, 80000]\n",
    "print(df)"
   ]
  },
  {
   "cell_type": "markdown",
   "id": "f3a19225",
   "metadata": {},
   "source": [
    "- Filtering data:"
   ]
  },
  {
   "cell_type": "code",
   "execution_count": null,
   "id": "210bbcac",
   "metadata": {},
   "outputs": [],
   "source": [
    "# Filtering rows based on a condition\n",
    "print(df[df['Age'] > 30])"
   ]
  },
  {
   "cell_type": "markdown",
   "id": "6243c23d",
   "metadata": {},
   "source": [
    "## 5. Handling Missing Data\n",
    "Pandas makes it easy to handle missing data. The `isna()` function helps to detect missing values, and the `fillna()` function helps to fill in the missing values."
   ]
  },
  {
   "cell_type": "code",
   "execution_count": null,
   "id": "88889044",
   "metadata": {},
   "outputs": [],
   "source": [
    "# Creating a DataFrame with missing values\n",
    "data_with_nan = {'A': [1, 2, None], 'B': [None, 5, 6], 'C': [7, 8, 9]}\n",
    "df_nan = pd.DataFrame(data_with_nan)\n",
    "print(df_nan)"
   ]
  },
  {
   "cell_type": "code",
   "execution_count": null,
   "id": "21ba2ba1",
   "metadata": {},
   "outputs": [],
   "source": [
    "# Filling missing values\n",
    "df_filled = df_nan.fillna(0)\n",
    "print(df_filled)"
   ]
  },
  {
   "cell_type": "markdown",
   "id": "158af761",
   "metadata": {},
   "source": [
    "## 6. Grouping Data\n",
    "Grouping data allows you to aggregate data based on certain conditions. You can use the `groupby()` function for this:"
   ]
  },
  {
   "cell_type": "code",
   "execution_count": null,
   "id": "bc224f4f",
   "metadata": {},
   "outputs": [],
   "source": [
    "# Grouping data by a column\n",
    "grouped = df.groupby('City')\n",
    "\n",
    "# Calculating the mean for numeric columns only\n",
    "print(grouped.mean(numeric_only=True))\n"
   ]
  }
 ],
 "metadata": {
  "kernelspec": {
   "display_name": "devAI",
   "language": "python",
   "name": "python3"
  },
  "language_info": {
   "codemirror_mode": {
    "name": "ipython",
    "version": 3
   },
   "file_extension": ".py",
   "mimetype": "text/x-python",
   "name": "python",
   "nbconvert_exporter": "python",
   "pygments_lexer": "ipython3",
   "version": "3.12.5"
  }
 },
 "nbformat": 4,
 "nbformat_minor": 5
}
