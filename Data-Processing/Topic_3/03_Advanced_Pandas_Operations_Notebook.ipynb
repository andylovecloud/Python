{
 "cells": [
  {
   "cell_type": "markdown",
   "id": "4f58c756",
   "metadata": {},
   "source": [
    "# Advanced Pandas Operations\n",
    "\n",
    "This notebook will guide you through some of the more advanced operations in Pandas, such as merging and joining DataFrames, pivot tables, reshaping data, and working with time series.\n",
    "\n",
    "### Topics Covered:\n",
    "1. Merging and Joining DataFrames\n",
    "2. Pivot Tables\n",
    "3. Reshaping Data\n",
    "4. Working with Time Series"
   ]
  },
  {
   "cell_type": "markdown",
   "id": "326a234e",
   "metadata": {},
   "source": [
    "## 1. Merging and Joining DataFrames\n",
    "Merging and joining operations are useful when you need to combine data from multiple DataFrames based on a common key. We'll demonstrate these operations with a simple example."
   ]
  },
  {
   "cell_type": "code",
   "execution_count": 1,
   "id": "5967f29e",
   "metadata": {},
   "outputs": [
    {
     "data": {
      "text/plain": [
       "(   EmployeeID     Name Department\n",
       " 0           1    Alice         HR\n",
       " 1           2      Bob         IT\n",
       " 2           3  Charlie      Sales\n",
       " 3           4    David         HR,\n",
       "    EmployeeID     Name  Salary\n",
       " 0           3  Charlie   70000\n",
       " 1           4    David   80000\n",
       " 2           5      Eva   50000\n",
       " 3           6    Frank   60000)"
      ]
     },
     "execution_count": 1,
     "metadata": {},
     "output_type": "execute_result"
    }
   ],
   "source": [
    "import pandas as pd\n",
    "# Example DataFrames for merging and joining\n",
    "df1 = pd.DataFrame({\n",
    "    'EmployeeID': [1, 2, 3, 4],\n",
    "    'Name': ['Alice', 'Bob', 'Charlie', 'David'],\n",
    "    'Department': ['HR', 'IT', 'Sales', 'HR']\n",
    "})\n",
    "\n",
    "df2 = pd.DataFrame({\n",
    "    'EmployeeID': [3, 4, 5, 6],\n",
    "    'Name': ['Charlie', 'David', 'Eva', 'Frank'],\n",
    "    'Salary': [70000, 80000, 50000, 60000]\n",
    "})\n",
    "df1.head(), df2.head()"
   ]
  },
  {
   "cell_type": "markdown",
   "id": "3f39e79e",
   "metadata": {},
   "source": [
    "### Merge Operation\n",
    "You can merge two DataFrames on a key column (such as `EmployeeID` in this case). By default, it performs an inner join, but you can specify left, right, or outer join."
   ]
  },
  {
   "cell_type": "code",
   "execution_count": 2,
   "id": "97ee5d33",
   "metadata": {},
   "outputs": [
    {
     "data": {
      "text/html": [
       "<div>\n",
       "<style scoped>\n",
       "    .dataframe tbody tr th:only-of-type {\n",
       "        vertical-align: middle;\n",
       "    }\n",
       "\n",
       "    .dataframe tbody tr th {\n",
       "        vertical-align: top;\n",
       "    }\n",
       "\n",
       "    .dataframe thead th {\n",
       "        text-align: right;\n",
       "    }\n",
       "</style>\n",
       "<table border=\"1\" class=\"dataframe\">\n",
       "  <thead>\n",
       "    <tr style=\"text-align: right;\">\n",
       "      <th></th>\n",
       "      <th>EmployeeID</th>\n",
       "      <th>Name_x</th>\n",
       "      <th>Department</th>\n",
       "      <th>Name_y</th>\n",
       "      <th>Salary</th>\n",
       "    </tr>\n",
       "  </thead>\n",
       "  <tbody>\n",
       "    <tr>\n",
       "      <th>0</th>\n",
       "      <td>3</td>\n",
       "      <td>Charlie</td>\n",
       "      <td>Sales</td>\n",
       "      <td>Charlie</td>\n",
       "      <td>70000</td>\n",
       "    </tr>\n",
       "    <tr>\n",
       "      <th>1</th>\n",
       "      <td>4</td>\n",
       "      <td>David</td>\n",
       "      <td>HR</td>\n",
       "      <td>David</td>\n",
       "      <td>80000</td>\n",
       "    </tr>\n",
       "  </tbody>\n",
       "</table>\n",
       "</div>"
      ],
      "text/plain": [
       "   EmployeeID   Name_x Department   Name_y  Salary\n",
       "0           3  Charlie      Sales  Charlie   70000\n",
       "1           4    David         HR    David   80000"
      ]
     },
     "execution_count": 2,
     "metadata": {},
     "output_type": "execute_result"
    }
   ],
   "source": [
    "# Merge DataFrames on EmployeeID\n",
    "merged_df = pd.merge(df1, df2, on='EmployeeID', how='inner')\n",
    "merged_df"
   ]
  },
  {
   "cell_type": "markdown",
   "id": "63a3032e",
   "metadata": {},
   "source": [
    "## 2. Pivot Tables\n",
    "Pivot tables allow you to summarize data and group it in a flexible way. Let's create a pivot table to analyze the average salary per department."
   ]
  },
  {
   "cell_type": "code",
   "execution_count": 3,
   "id": "419e79cc",
   "metadata": {},
   "outputs": [
    {
     "data": {
      "text/html": [
       "<div>\n",
       "<style scoped>\n",
       "    .dataframe tbody tr th:only-of-type {\n",
       "        vertical-align: middle;\n",
       "    }\n",
       "\n",
       "    .dataframe tbody tr th {\n",
       "        vertical-align: top;\n",
       "    }\n",
       "\n",
       "    .dataframe thead th {\n",
       "        text-align: right;\n",
       "    }\n",
       "</style>\n",
       "<table border=\"1\" class=\"dataframe\">\n",
       "  <thead>\n",
       "    <tr style=\"text-align: right;\">\n",
       "      <th></th>\n",
       "      <th>Department</th>\n",
       "      <th>Employee</th>\n",
       "      <th>Salary</th>\n",
       "    </tr>\n",
       "  </thead>\n",
       "  <tbody>\n",
       "    <tr>\n",
       "      <th>0</th>\n",
       "      <td>HR</td>\n",
       "      <td>Alice</td>\n",
       "      <td>50000</td>\n",
       "    </tr>\n",
       "    <tr>\n",
       "      <th>1</th>\n",
       "      <td>IT</td>\n",
       "      <td>Bob</td>\n",
       "      <td>60000</td>\n",
       "    </tr>\n",
       "    <tr>\n",
       "      <th>2</th>\n",
       "      <td>Sales</td>\n",
       "      <td>Charlie</td>\n",
       "      <td>70000</td>\n",
       "    </tr>\n",
       "    <tr>\n",
       "      <th>3</th>\n",
       "      <td>HR</td>\n",
       "      <td>David</td>\n",
       "      <td>52000</td>\n",
       "    </tr>\n",
       "    <tr>\n",
       "      <th>4</th>\n",
       "      <td>Sales</td>\n",
       "      <td>Eva</td>\n",
       "      <td>46000</td>\n",
       "    </tr>\n",
       "  </tbody>\n",
       "</table>\n",
       "</div>"
      ],
      "text/plain": [
       "  Department Employee  Salary\n",
       "0         HR    Alice   50000\n",
       "1         IT      Bob   60000\n",
       "2      Sales  Charlie   70000\n",
       "3         HR    David   52000\n",
       "4      Sales      Eva   46000"
      ]
     },
     "execution_count": 3,
     "metadata": {},
     "output_type": "execute_result"
    }
   ],
   "source": [
    "# Example DataFrame for pivot table\n",
    "df_pivot = pd.DataFrame({\n",
    "    'Department': ['HR', 'IT', 'Sales', 'HR', 'Sales', 'IT'],\n",
    "    'Employee': ['Alice', 'Bob', 'Charlie', 'David', 'Eva', 'Frank'],\n",
    "    'Salary': [50000, 60000, 70000, 52000, 46000, 62000]\n",
    "})\n",
    "df_pivot.head()"
   ]
  },
  {
   "cell_type": "code",
   "execution_count": 4,
   "id": "c1b8383c",
   "metadata": {},
   "outputs": [
    {
     "data": {
      "text/html": [
       "<div>\n",
       "<style scoped>\n",
       "    .dataframe tbody tr th:only-of-type {\n",
       "        vertical-align: middle;\n",
       "    }\n",
       "\n",
       "    .dataframe tbody tr th {\n",
       "        vertical-align: top;\n",
       "    }\n",
       "\n",
       "    .dataframe thead th {\n",
       "        text-align: right;\n",
       "    }\n",
       "</style>\n",
       "<table border=\"1\" class=\"dataframe\">\n",
       "  <thead>\n",
       "    <tr style=\"text-align: right;\">\n",
       "      <th></th>\n",
       "      <th>Salary</th>\n",
       "    </tr>\n",
       "    <tr>\n",
       "      <th>Department</th>\n",
       "      <th></th>\n",
       "    </tr>\n",
       "  </thead>\n",
       "  <tbody>\n",
       "    <tr>\n",
       "      <th>HR</th>\n",
       "      <td>51000.0</td>\n",
       "    </tr>\n",
       "    <tr>\n",
       "      <th>IT</th>\n",
       "      <td>61000.0</td>\n",
       "    </tr>\n",
       "    <tr>\n",
       "      <th>Sales</th>\n",
       "      <td>58000.0</td>\n",
       "    </tr>\n",
       "  </tbody>\n",
       "</table>\n",
       "</div>"
      ],
      "text/plain": [
       "             Salary\n",
       "Department         \n",
       "HR          51000.0\n",
       "IT          61000.0\n",
       "Sales       58000.0"
      ]
     },
     "execution_count": 4,
     "metadata": {},
     "output_type": "execute_result"
    }
   ],
   "source": [
    "# Creating a pivot table to calculate the average salary by department\n",
    "pivot_table = df_pivot.pivot_table(values='Salary', index='Department', aggfunc='mean')\n",
    "pivot_table"
   ]
  },
  {
   "cell_type": "markdown",
   "id": "2caf5529",
   "metadata": {},
   "source": [
    "## 3. Reshaping Data\n",
    "Reshaping operations like `melt()` and `pivot()` allow you to restructure DataFrames. `melt()` is useful for turning columns into rows, and `pivot()` is used to create a new DataFrame from long-form data."
   ]
  },
  {
   "cell_type": "code",
   "execution_count": 5,
   "id": "5757017e",
   "metadata": {},
   "outputs": [
    {
     "data": {
      "text/html": [
       "<div>\n",
       "<style scoped>\n",
       "    .dataframe tbody tr th:only-of-type {\n",
       "        vertical-align: middle;\n",
       "    }\n",
       "\n",
       "    .dataframe tbody tr th {\n",
       "        vertical-align: top;\n",
       "    }\n",
       "\n",
       "    .dataframe thead th {\n",
       "        text-align: right;\n",
       "    }\n",
       "</style>\n",
       "<table border=\"1\" class=\"dataframe\">\n",
       "  <thead>\n",
       "    <tr style=\"text-align: right;\">\n",
       "      <th></th>\n",
       "      <th>Employee</th>\n",
       "      <th>HR_Score</th>\n",
       "      <th>IT_Score</th>\n",
       "    </tr>\n",
       "  </thead>\n",
       "  <tbody>\n",
       "    <tr>\n",
       "      <th>0</th>\n",
       "      <td>Alice</td>\n",
       "      <td>88</td>\n",
       "      <td>78</td>\n",
       "    </tr>\n",
       "    <tr>\n",
       "      <th>1</th>\n",
       "      <td>Bob</td>\n",
       "      <td>92</td>\n",
       "      <td>85</td>\n",
       "    </tr>\n",
       "    <tr>\n",
       "      <th>2</th>\n",
       "      <td>Charlie</td>\n",
       "      <td>85</td>\n",
       "      <td>89</td>\n",
       "    </tr>\n",
       "  </tbody>\n",
       "</table>\n",
       "</div>"
      ],
      "text/plain": [
       "  Employee  HR_Score  IT_Score\n",
       "0    Alice        88        78\n",
       "1      Bob        92        85\n",
       "2  Charlie        85        89"
      ]
     },
     "execution_count": 5,
     "metadata": {},
     "output_type": "execute_result"
    }
   ],
   "source": [
    "# Reshaping with melt\n",
    "df_melt = pd.DataFrame({\n",
    "    'Employee': ['Alice', 'Bob', 'Charlie'],\n",
    "    'HR_Score': [88, 92, 85],\n",
    "    'IT_Score': [78, 85, 89]\n",
    "})\n",
    "df_melt"
   ]
  },
  {
   "cell_type": "code",
   "execution_count": 6,
   "id": "f682405d",
   "metadata": {},
   "outputs": [
    {
     "data": {
      "text/html": [
       "<div>\n",
       "<style scoped>\n",
       "    .dataframe tbody tr th:only-of-type {\n",
       "        vertical-align: middle;\n",
       "    }\n",
       "\n",
       "    .dataframe tbody tr th {\n",
       "        vertical-align: top;\n",
       "    }\n",
       "\n",
       "    .dataframe thead th {\n",
       "        text-align: right;\n",
       "    }\n",
       "</style>\n",
       "<table border=\"1\" class=\"dataframe\">\n",
       "  <thead>\n",
       "    <tr style=\"text-align: right;\">\n",
       "      <th></th>\n",
       "      <th>Employee</th>\n",
       "      <th>Department</th>\n",
       "      <th>Score</th>\n",
       "    </tr>\n",
       "  </thead>\n",
       "  <tbody>\n",
       "    <tr>\n",
       "      <th>0</th>\n",
       "      <td>Alice</td>\n",
       "      <td>HR_Score</td>\n",
       "      <td>88</td>\n",
       "    </tr>\n",
       "    <tr>\n",
       "      <th>1</th>\n",
       "      <td>Bob</td>\n",
       "      <td>HR_Score</td>\n",
       "      <td>92</td>\n",
       "    </tr>\n",
       "    <tr>\n",
       "      <th>2</th>\n",
       "      <td>Charlie</td>\n",
       "      <td>HR_Score</td>\n",
       "      <td>85</td>\n",
       "    </tr>\n",
       "    <tr>\n",
       "      <th>3</th>\n",
       "      <td>Alice</td>\n",
       "      <td>IT_Score</td>\n",
       "      <td>78</td>\n",
       "    </tr>\n",
       "    <tr>\n",
       "      <th>4</th>\n",
       "      <td>Bob</td>\n",
       "      <td>IT_Score</td>\n",
       "      <td>85</td>\n",
       "    </tr>\n",
       "    <tr>\n",
       "      <th>5</th>\n",
       "      <td>Charlie</td>\n",
       "      <td>IT_Score</td>\n",
       "      <td>89</td>\n",
       "    </tr>\n",
       "  </tbody>\n",
       "</table>\n",
       "</div>"
      ],
      "text/plain": [
       "  Employee Department  Score\n",
       "0    Alice   HR_Score     88\n",
       "1      Bob   HR_Score     92\n",
       "2  Charlie   HR_Score     85\n",
       "3    Alice   IT_Score     78\n",
       "4      Bob   IT_Score     85\n",
       "5  Charlie   IT_Score     89"
      ]
     },
     "execution_count": 6,
     "metadata": {},
     "output_type": "execute_result"
    }
   ],
   "source": [
    "# Melting the DataFrame to convert columns into rows\n",
    "df_melted = pd.melt(df_melt, id_vars='Employee', value_vars=['HR_Score', 'IT_Score'],\n",
    "                    var_name='Department', value_name='Score')\n",
    "df_melted"
   ]
  },
  {
   "cell_type": "markdown",
   "id": "e03f4e21",
   "metadata": {},
   "source": [
    "## 4. Working with Time Series\n",
    "Pandas makes it easy to work with time series data. You can convert columns to datetime, resample data, and apply rolling statistics for time series analysis."
   ]
  },
  {
   "cell_type": "code",
   "execution_count": 7,
   "id": "c95c9329",
   "metadata": {},
   "outputs": [
    {
     "data": {
      "text/html": [
       "<div>\n",
       "<style scoped>\n",
       "    .dataframe tbody tr th:only-of-type {\n",
       "        vertical-align: middle;\n",
       "    }\n",
       "\n",
       "    .dataframe tbody tr th {\n",
       "        vertical-align: top;\n",
       "    }\n",
       "\n",
       "    .dataframe thead th {\n",
       "        text-align: right;\n",
       "    }\n",
       "</style>\n",
       "<table border=\"1\" class=\"dataframe\">\n",
       "  <thead>\n",
       "    <tr style=\"text-align: right;\">\n",
       "      <th></th>\n",
       "      <th>Date</th>\n",
       "      <th>Sales</th>\n",
       "    </tr>\n",
       "  </thead>\n",
       "  <tbody>\n",
       "    <tr>\n",
       "      <th>0</th>\n",
       "      <td>2024-01-01</td>\n",
       "      <td>200</td>\n",
       "    </tr>\n",
       "    <tr>\n",
       "      <th>1</th>\n",
       "      <td>2024-01-02</td>\n",
       "      <td>220</td>\n",
       "    </tr>\n",
       "    <tr>\n",
       "      <th>2</th>\n",
       "      <td>2024-01-03</td>\n",
       "      <td>210</td>\n",
       "    </tr>\n",
       "    <tr>\n",
       "      <th>3</th>\n",
       "      <td>2024-01-04</td>\n",
       "      <td>230</td>\n",
       "    </tr>\n",
       "    <tr>\n",
       "      <th>4</th>\n",
       "      <td>2024-01-05</td>\n",
       "      <td>250</td>\n",
       "    </tr>\n",
       "  </tbody>\n",
       "</table>\n",
       "</div>"
      ],
      "text/plain": [
       "        Date  Sales\n",
       "0 2024-01-01    200\n",
       "1 2024-01-02    220\n",
       "2 2024-01-03    210\n",
       "3 2024-01-04    230\n",
       "4 2024-01-05    250"
      ]
     },
     "execution_count": 7,
     "metadata": {},
     "output_type": "execute_result"
    }
   ],
   "source": [
    "# Creating a time series DataFrame\n",
    "time_data = pd.DataFrame({\n",
    "    'Date': pd.date_range(start='2024-01-01', periods=10, freq='D'),\n",
    "    'Sales': [200, 220, 210, 230, 250, 270, 260, 280, 300, 310]\n",
    "})\n",
    "time_data.head()"
   ]
  }
 ],
 "metadata": {
  "kernelspec": {
   "display_name": "devAI",
   "language": "python",
   "name": "python3"
  },
  "language_info": {
   "codemirror_mode": {
    "name": "ipython",
    "version": 3
   },
   "file_extension": ".py",
   "mimetype": "text/x-python",
   "name": "python",
   "nbconvert_exporter": "python",
   "pygments_lexer": "ipython3",
   "version": "3.12.5"
  }
 },
 "nbformat": 4,
 "nbformat_minor": 5
}
