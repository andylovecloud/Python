{
 "cells": [
  {
   "cell_type": "code",
   "execution_count": 1,
   "metadata": {},
   "outputs": [],
   "source": [
    "#Based on Aki Taanila's Tilastoapu\n",
    "\n",
    "import numpy as np\n",
    "import pandas as pd\n",
    "import matplotlib.pyplot as plt\n",
    "import seaborn as sns\n",
    "\n",
    "%matplotlib inline\n",
    "\n",
    "plt.style.use('seaborn-whitegrid')"
   ]
  },
  {
   "cell_type": "code",
   "execution_count": 2,
   "metadata": {},
   "outputs": [],
   "source": [
    "# Open the data\n",
    "#df = pd.read_excel('data1_eng.xlsx')\n",
    "df = pd.read_csv('WorkPlaceSatisfactionSurveyData.csv', sep = ';', decimal = ',')"
   ]
  },
  {
   "cell_type": "code",
   "execution_count": 3,
   "metadata": {},
   "outputs": [
    {
     "data": {
      "text/html": [
       "<div>\n",
       "<style scoped>\n",
       "    .dataframe tbody tr th:only-of-type {\n",
       "        vertical-align: middle;\n",
       "    }\n",
       "\n",
       "    .dataframe tbody tr th {\n",
       "        vertical-align: top;\n",
       "    }\n",
       "\n",
       "    .dataframe thead th {\n",
       "        text-align: right;\n",
       "    }\n",
       "</style>\n",
       "<table border=\"1\" class=\"dataframe\">\n",
       "  <thead>\n",
       "    <tr style=\"text-align: right;\">\n",
       "      <th></th>\n",
       "      <th>number</th>\n",
       "      <th>gender</th>\n",
       "      <th>age</th>\n",
       "      <th>family</th>\n",
       "      <th>education</th>\n",
       "      <th>years_of_service</th>\n",
       "      <th>salary</th>\n",
       "      <th>sat management</th>\n",
       "      <th>sat_colleques</th>\n",
       "      <th>sat_workingEnvironment</th>\n",
       "      <th>sat_salary</th>\n",
       "      <th>sat_tasks</th>\n",
       "      <th>healtcare_work</th>\n",
       "      <th>holidayCabin</th>\n",
       "      <th>gym</th>\n",
       "      <th>muscleCare</th>\n",
       "    </tr>\n",
       "  </thead>\n",
       "  <tbody>\n",
       "    <tr>\n",
       "      <th>0</th>\n",
       "      <td>1</td>\n",
       "      <td>1</td>\n",
       "      <td>38</td>\n",
       "      <td>1</td>\n",
       "      <td>1.0</td>\n",
       "      <td>22.0</td>\n",
       "      <td>3587</td>\n",
       "      <td>3</td>\n",
       "      <td>3.0</td>\n",
       "      <td>3</td>\n",
       "      <td>3</td>\n",
       "      <td>3</td>\n",
       "      <td>NaN</td>\n",
       "      <td>NaN</td>\n",
       "      <td>NaN</td>\n",
       "      <td>NaN</td>\n",
       "    </tr>\n",
       "    <tr>\n",
       "      <th>1</th>\n",
       "      <td>2</td>\n",
       "      <td>1</td>\n",
       "      <td>29</td>\n",
       "      <td>2</td>\n",
       "      <td>2.0</td>\n",
       "      <td>10.0</td>\n",
       "      <td>2963</td>\n",
       "      <td>1</td>\n",
       "      <td>5.0</td>\n",
       "      <td>2</td>\n",
       "      <td>1</td>\n",
       "      <td>3</td>\n",
       "      <td>NaN</td>\n",
       "      <td>NaN</td>\n",
       "      <td>NaN</td>\n",
       "      <td>NaN</td>\n",
       "    </tr>\n",
       "    <tr>\n",
       "      <th>2</th>\n",
       "      <td>3</td>\n",
       "      <td>1</td>\n",
       "      <td>30</td>\n",
       "      <td>1</td>\n",
       "      <td>1.0</td>\n",
       "      <td>7.0</td>\n",
       "      <td>1989</td>\n",
       "      <td>3</td>\n",
       "      <td>4.0</td>\n",
       "      <td>1</td>\n",
       "      <td>1</td>\n",
       "      <td>3</td>\n",
       "      <td>1.0</td>\n",
       "      <td>NaN</td>\n",
       "      <td>NaN</td>\n",
       "      <td>NaN</td>\n",
       "    </tr>\n",
       "    <tr>\n",
       "      <th>3</th>\n",
       "      <td>4</td>\n",
       "      <td>1</td>\n",
       "      <td>36</td>\n",
       "      <td>2</td>\n",
       "      <td>1.0</td>\n",
       "      <td>14.0</td>\n",
       "      <td>2144</td>\n",
       "      <td>3</td>\n",
       "      <td>3.0</td>\n",
       "      <td>3</td>\n",
       "      <td>3</td>\n",
       "      <td>3</td>\n",
       "      <td>1.0</td>\n",
       "      <td>NaN</td>\n",
       "      <td>NaN</td>\n",
       "      <td>NaN</td>\n",
       "    </tr>\n",
       "    <tr>\n",
       "      <th>4</th>\n",
       "      <td>5</td>\n",
       "      <td>1</td>\n",
       "      <td>24</td>\n",
       "      <td>1</td>\n",
       "      <td>2.0</td>\n",
       "      <td>4.0</td>\n",
       "      <td>2183</td>\n",
       "      <td>2</td>\n",
       "      <td>3.0</td>\n",
       "      <td>2</td>\n",
       "      <td>1</td>\n",
       "      <td>2</td>\n",
       "      <td>1.0</td>\n",
       "      <td>NaN</td>\n",
       "      <td>NaN</td>\n",
       "      <td>NaN</td>\n",
       "    </tr>\n",
       "  </tbody>\n",
       "</table>\n",
       "</div>"
      ],
      "text/plain": [
       "   number  gender  age  family  education  years_of_service  salary  \\\n",
       "0       1       1   38       1        1.0              22.0    3587   \n",
       "1       2       1   29       2        2.0              10.0    2963   \n",
       "2       3       1   30       1        1.0               7.0    1989   \n",
       "3       4       1   36       2        1.0              14.0    2144   \n",
       "4       5       1   24       1        2.0               4.0    2183   \n",
       "\n",
       "   sat management  sat_colleques  sat_workingEnvironment  sat_salary  \\\n",
       "0               3            3.0                       3           3   \n",
       "1               1            5.0                       2           1   \n",
       "2               3            4.0                       1           1   \n",
       "3               3            3.0                       3           3   \n",
       "4               2            3.0                       2           1   \n",
       "\n",
       "   sat_tasks  healtcare_work  holidayCabin  gym  muscleCare  \n",
       "0          3             NaN           NaN  NaN         NaN  \n",
       "1          3             NaN           NaN  NaN         NaN  \n",
       "2          3             1.0           NaN  NaN         NaN  \n",
       "3          3             1.0           NaN  NaN         NaN  \n",
       "4          2             1.0           NaN  NaN         NaN  "
      ]
     },
     "execution_count": 3,
     "metadata": {},
     "output_type": "execute_result"
    }
   ],
   "source": [
    "df.head()"
   ]
  },
  {
   "cell_type": "markdown",
   "metadata": {},
   "source": [
    "In the file MeansForCategoricalData.ipynb we were a bit daring and calculated the means for categorical variables like sat_management, sat_colleques etc.\n",
    "\n",
    "Of course it is perfectly fine that you calculate the means (or some other numerical summary statistics) for numerical data. Let's do that next. "
   ]
  },
  {
   "cell_type": "code",
   "execution_count": 4,
   "metadata": {},
   "outputs": [
    {
     "data": {
      "text/html": [
       "<div>\n",
       "<style scoped>\n",
       "    .dataframe tbody tr th:only-of-type {\n",
       "        vertical-align: middle;\n",
       "    }\n",
       "\n",
       "    .dataframe tbody tr th {\n",
       "        vertical-align: top;\n",
       "    }\n",
       "\n",
       "    .dataframe thead th {\n",
       "        text-align: right;\n",
       "    }\n",
       "</style>\n",
       "<table border=\"1\" class=\"dataframe\">\n",
       "  <thead>\n",
       "    <tr style=\"text-align: right;\">\n",
       "      <th></th>\n",
       "      <th>mean</th>\n",
       "      <th>std</th>\n",
       "      <th>count</th>\n",
       "    </tr>\n",
       "  </thead>\n",
       "  <tbody>\n",
       "    <tr>\n",
       "      <th>age</th>\n",
       "      <td>37.951220</td>\n",
       "      <td>9.773866</td>\n",
       "      <td>82.0</td>\n",
       "    </tr>\n",
       "    <tr>\n",
       "      <th>years_of_service</th>\n",
       "      <td>12.175000</td>\n",
       "      <td>8.807038</td>\n",
       "      <td>80.0</td>\n",
       "    </tr>\n",
       "    <tr>\n",
       "      <th>salary</th>\n",
       "      <td>2563.878049</td>\n",
       "      <td>849.350302</td>\n",
       "      <td>82.0</td>\n",
       "    </tr>\n",
       "  </tbody>\n",
       "</table>\n",
       "</div>"
      ],
      "text/plain": [
       "                         mean         std  count\n",
       "age                 37.951220    9.773866   82.0\n",
       "years_of_service    12.175000    8.807038   80.0\n",
       "salary            2563.878049  849.350302   82.0"
      ]
     },
     "execution_count": 4,
     "metadata": {},
     "output_type": "execute_result"
    }
   ],
   "source": [
    "#df.describe()\n",
    "df[['age', 'years_of_service', 'salary']].describe().loc[['mean', 'std', 'count']].T"
   ]
  },
  {
   "cell_type": "markdown",
   "metadata": {},
   "source": [
    "From the analysis point of view that information does not say much to us yet \n",
    "\n",
    "But it would be interresting to see the means with respect to some categorical variables. For example, how are the mean values for the male and female persons who have answered our survey.\n",
    "\n",
    "Let's check that next"
   ]
  },
  {
   "cell_type": "code",
   "execution_count": 5,
   "metadata": {},
   "outputs": [
    {
     "data": {
      "text/html": [
       "<div>\n",
       "<style scoped>\n",
       "    .dataframe tbody tr th:only-of-type {\n",
       "        vertical-align: middle;\n",
       "    }\n",
       "\n",
       "    .dataframe tbody tr th {\n",
       "        vertical-align: top;\n",
       "    }\n",
       "\n",
       "    .dataframe thead th {\n",
       "        text-align: right;\n",
       "    }\n",
       "</style>\n",
       "<table border=\"1\" class=\"dataframe\">\n",
       "  <thead>\n",
       "    <tr style=\"text-align: right;\">\n",
       "      <th></th>\n",
       "      <th>mean</th>\n",
       "      <th>std</th>\n",
       "      <th>count</th>\n",
       "    </tr>\n",
       "  </thead>\n",
       "  <tbody>\n",
       "    <tr>\n",
       "      <th>men</th>\n",
       "      <td>2663.746032</td>\n",
       "      <td>930.061860</td>\n",
       "      <td>63.0</td>\n",
       "    </tr>\n",
       "    <tr>\n",
       "      <th>women</th>\n",
       "      <td>2232.736842</td>\n",
       "      <td>340.780451</td>\n",
       "      <td>19.0</td>\n",
       "    </tr>\n",
       "  </tbody>\n",
       "</table>\n",
       "</div>"
      ],
      "text/plain": [
       "              mean         std  count\n",
       "men    2663.746032  930.061860   63.0\n",
       "women  2232.736842  340.780451   19.0"
      ]
     },
     "execution_count": 5,
     "metadata": {},
     "output_type": "execute_result"
    }
   ],
   "source": [
    "# By the way, notice that groupby method gives now the mean, std, count, etc. on column index - So, no need of .T or for loc[] \n",
    "\n",
    "df1 = df.groupby('gender')['salary'].describe()[['mean', 'std', 'count']]\n",
    "df1.index=['men','women']\n",
    "df1\n"
   ]
  },
  {
   "cell_type": "markdown",
   "metadata": {},
   "source": [
    "This already tells us bit more about salaries. It **seems** that the average salary is higher for men than for women. But it this because of statistical variation just because of our sample from the population was maybe too small or can we somehow say with more confidence that there really is the difference? We will come back to this issue in the end of the notebook after we have first studied couple of other examples."
   ]
  },
  {
   "cell_type": "markdown",
   "metadata": {},
   "source": [
    "Now it would be nice to calculate the mean values for other variables than salary also with respect the gender variable. And I allow us to calculate those means also for variables measuring satisfaction levels - In addition to numerical variables age and years_of_service."
   ]
  },
  {
   "cell_type": "code",
   "execution_count": 6,
   "metadata": {},
   "outputs": [
    {
     "data": {
      "text/html": [
       "<div>\n",
       "<style scoped>\n",
       "    .dataframe tbody tr th:only-of-type {\n",
       "        vertical-align: middle;\n",
       "    }\n",
       "\n",
       "    .dataframe tbody tr th {\n",
       "        vertical-align: top;\n",
       "    }\n",
       "\n",
       "    .dataframe thead tr th {\n",
       "        text-align: left;\n",
       "    }\n",
       "\n",
       "    .dataframe thead tr:last-of-type th {\n",
       "        text-align: right;\n",
       "    }\n",
       "</style>\n",
       "<table border=\"1\" class=\"dataframe\">\n",
       "  <thead>\n",
       "    <tr>\n",
       "      <th></th>\n",
       "      <th colspan=\"8\" halign=\"left\">salary</th>\n",
       "      <th colspan=\"2\" halign=\"left\">age</th>\n",
       "      <th>...</th>\n",
       "      <th colspan=\"2\" halign=\"left\">sat_salary</th>\n",
       "      <th colspan=\"8\" halign=\"left\">sat_tasks</th>\n",
       "    </tr>\n",
       "    <tr>\n",
       "      <th></th>\n",
       "      <th>count</th>\n",
       "      <th>mean</th>\n",
       "      <th>std</th>\n",
       "      <th>min</th>\n",
       "      <th>25%</th>\n",
       "      <th>50%</th>\n",
       "      <th>75%</th>\n",
       "      <th>max</th>\n",
       "      <th>count</th>\n",
       "      <th>mean</th>\n",
       "      <th>...</th>\n",
       "      <th>75%</th>\n",
       "      <th>max</th>\n",
       "      <th>count</th>\n",
       "      <th>mean</th>\n",
       "      <th>std</th>\n",
       "      <th>min</th>\n",
       "      <th>25%</th>\n",
       "      <th>50%</th>\n",
       "      <th>75%</th>\n",
       "      <th>max</th>\n",
       "    </tr>\n",
       "    <tr>\n",
       "      <th>gender</th>\n",
       "      <th></th>\n",
       "      <th></th>\n",
       "      <th></th>\n",
       "      <th></th>\n",
       "      <th></th>\n",
       "      <th></th>\n",
       "      <th></th>\n",
       "      <th></th>\n",
       "      <th></th>\n",
       "      <th></th>\n",
       "      <th></th>\n",
       "      <th></th>\n",
       "      <th></th>\n",
       "      <th></th>\n",
       "      <th></th>\n",
       "      <th></th>\n",
       "      <th></th>\n",
       "      <th></th>\n",
       "      <th></th>\n",
       "      <th></th>\n",
       "      <th></th>\n",
       "    </tr>\n",
       "  </thead>\n",
       "  <tbody>\n",
       "    <tr>\n",
       "      <th>1</th>\n",
       "      <td>63.0</td>\n",
       "      <td>2663.746032</td>\n",
       "      <td>930.061860</td>\n",
       "      <td>1521.0</td>\n",
       "      <td>2086.0</td>\n",
       "      <td>2417.0</td>\n",
       "      <td>2925.0</td>\n",
       "      <td>6278.0</td>\n",
       "      <td>63.0</td>\n",
       "      <td>37.126984</td>\n",
       "      <td>...</td>\n",
       "      <td>3.0</td>\n",
       "      <td>4.0</td>\n",
       "      <td>63.0</td>\n",
       "      <td>3.095238</td>\n",
       "      <td>1.042860</td>\n",
       "      <td>1.0</td>\n",
       "      <td>2.0</td>\n",
       "      <td>3.0</td>\n",
       "      <td>4.0</td>\n",
       "      <td>5.0</td>\n",
       "    </tr>\n",
       "    <tr>\n",
       "      <th>2</th>\n",
       "      <td>19.0</td>\n",
       "      <td>2232.736842</td>\n",
       "      <td>340.780451</td>\n",
       "      <td>1715.0</td>\n",
       "      <td>1969.0</td>\n",
       "      <td>2144.0</td>\n",
       "      <td>2574.0</td>\n",
       "      <td>2729.0</td>\n",
       "      <td>19.0</td>\n",
       "      <td>40.684211</td>\n",
       "      <td>...</td>\n",
       "      <td>3.0</td>\n",
       "      <td>5.0</td>\n",
       "      <td>19.0</td>\n",
       "      <td>3.526316</td>\n",
       "      <td>1.020263</td>\n",
       "      <td>1.0</td>\n",
       "      <td>3.0</td>\n",
       "      <td>4.0</td>\n",
       "      <td>4.0</td>\n",
       "      <td>5.0</td>\n",
       "    </tr>\n",
       "  </tbody>\n",
       "</table>\n",
       "<p>2 rows × 64 columns</p>\n",
       "</div>"
      ],
      "text/plain": [
       "       salary                                                           \\\n",
       "        count         mean         std     min     25%     50%     75%   \n",
       "gender                                                                   \n",
       "1        63.0  2663.746032  930.061860  1521.0  2086.0  2417.0  2925.0   \n",
       "2        19.0  2232.736842  340.780451  1715.0  1969.0  2144.0  2574.0   \n",
       "\n",
       "                 age             ... sat_salary      sat_tasks            \\\n",
       "           max count       mean  ...        75%  max     count      mean   \n",
       "gender                           ...                                       \n",
       "1       6278.0  63.0  37.126984  ...        3.0  4.0      63.0  3.095238   \n",
       "2       2729.0  19.0  40.684211  ...        3.0  5.0      19.0  3.526316   \n",
       "\n",
       "                                           \n",
       "             std  min  25%  50%  75%  max  \n",
       "gender                                     \n",
       "1       1.042860  1.0  2.0  3.0  4.0  5.0  \n",
       "2       1.020263  1.0  3.0  4.0  4.0  5.0  \n",
       "\n",
       "[2 rows x 64 columns]"
      ]
     },
     "execution_count": 6,
     "metadata": {},
     "output_type": "execute_result"
    }
   ],
   "source": [
    "variable_list=['salary', 'age', 'years_of_service', 'sat management','sat_colleques', 'sat_workingEnvironment', 'sat_salary', 'sat_tasks']\n",
    "df2 = df.groupby('gender')[variable_list].describe()\n",
    "df2"
   ]
  },
  {
   "cell_type": "markdown",
   "metadata": {},
   "source": [
    "Ok, I admit, that looks rather afwul! Too much information in one table already. Now it is beyond this course to know how to filter data out from this kind of table. Instead, let's use mean() method instead of describe() methods and it already looks much more readable."
   ]
  },
  {
   "cell_type": "code",
   "execution_count": 7,
   "metadata": {},
   "outputs": [
    {
     "data": {
      "text/html": [
       "<div>\n",
       "<style scoped>\n",
       "    .dataframe tbody tr th:only-of-type {\n",
       "        vertical-align: middle;\n",
       "    }\n",
       "\n",
       "    .dataframe tbody tr th {\n",
       "        vertical-align: top;\n",
       "    }\n",
       "\n",
       "    .dataframe thead th {\n",
       "        text-align: right;\n",
       "    }\n",
       "</style>\n",
       "<table border=\"1\" class=\"dataframe\">\n",
       "  <thead>\n",
       "    <tr style=\"text-align: right;\">\n",
       "      <th></th>\n",
       "      <th>salary</th>\n",
       "      <th>age</th>\n",
       "      <th>years_of_service</th>\n",
       "      <th>sat management</th>\n",
       "      <th>sat_colleques</th>\n",
       "      <th>sat_workingEnvironment</th>\n",
       "      <th>sat_salary</th>\n",
       "      <th>sat_tasks</th>\n",
       "    </tr>\n",
       "  </thead>\n",
       "  <tbody>\n",
       "    <tr>\n",
       "      <th>men</th>\n",
       "      <td>2663.746032</td>\n",
       "      <td>37.126984</td>\n",
       "      <td>11.475410</td>\n",
       "      <td>2.873016</td>\n",
       "      <td>4.129032</td>\n",
       "      <td>3.000000</td>\n",
       "      <td>1.904762</td>\n",
       "      <td>3.095238</td>\n",
       "    </tr>\n",
       "    <tr>\n",
       "      <th>women</th>\n",
       "      <td>2232.736842</td>\n",
       "      <td>40.684211</td>\n",
       "      <td>14.421053</td>\n",
       "      <td>3.684211</td>\n",
       "      <td>3.842105</td>\n",
       "      <td>3.947368</td>\n",
       "      <td>2.789474</td>\n",
       "      <td>3.526316</td>\n",
       "    </tr>\n",
       "  </tbody>\n",
       "</table>\n",
       "</div>"
      ],
      "text/plain": [
       "            salary        age  years_of_service  sat management  \\\n",
       "men    2663.746032  37.126984         11.475410        2.873016   \n",
       "women  2232.736842  40.684211         14.421053        3.684211   \n",
       "\n",
       "       sat_colleques  sat_workingEnvironment  sat_salary  sat_tasks  \n",
       "men         4.129032                3.000000    1.904762   3.095238  \n",
       "women       3.842105                3.947368    2.789474   3.526316  "
      ]
     },
     "execution_count": 7,
     "metadata": {},
     "output_type": "execute_result"
    }
   ],
   "source": [
    "df2 = df.groupby('gender')[variable_list].mean()\n",
    "df2.index=['men','women']\n",
    "df2"
   ]
  },
  {
   "cell_type": "markdown",
   "metadata": {},
   "source": [
    "We can see that here may be difference in any of the cases above. However, it is maybe not fruitful to analyze difference in age or years_of_service now. But what about for example the difference in mean values for men and women for sat_management? Could that be just because of statistical variations for our sample? To better answer whether the difference is statistically significant we would need to test that. There are couple of test that we could utilize here. Let's consider now the Student's t-test."
   ]
  },
  {
   "cell_type": "markdown",
   "metadata": {},
   "source": [
    "But before we apply the test we need to know and consider couple of things. We need to know whether our samples for men and women for that variable sat_management are independent or dependent! And notice that the discussion below applies to many other cases/tests not just for the t-test."
   ]
  },
  {
   "cell_type": "markdown",
   "metadata": {},
   "source": [
    "# Independent and dependent samples"
   ]
  },
  {
   "cell_type": "markdown",
   "metadata": {},
   "source": [
    "If the two samples are drawn from two different populations then the samples are independent. Also, within the same sample the part of the sample based on disjoint groups can be considered independent samples."
   ]
  },
  {
   "cell_type": "markdown",
   "metadata": {},
   "source": [
    "* For example, we can take a sample measuring the lifetime of the product where the product is manufactured with the method A and we can take another\n",
    "sample with the product manufactured with method the B.\n",
    "* Like for sat_management, sat_colleques,... we can consider that we have independent samples for men and women now.\n",
    "\n",
    "Dependent samples often rise for example in the situation when the same experiment is repeated for the same study units (people or so).\n",
    "* For example, we study the customer opinion before and after the product presentation."
   ]
  },
  {
   "cell_type": "markdown",
   "metadata": {},
   "source": [
    "# two-sided or one-sided test?"
   ]
  },
  {
   "cell_type": "markdown",
   "metadata": {},
   "source": [
    "Consider now for example the means for men and women for the variable sat_management. We can see that the women seem to be somewhat happier to the management. So far we have discussed on the difference of that mean that we would like to know whether there is a difference between means for those two groups. But we could have asked something bit different! We could have asked whether women are more satisfied to management than men. In that respect we would have been dealing with the case that difference could be either way, either men are happier or unhappier than women. Hence, it would have been kind of two-sided situation. Then again, asking directly whether women are happier to management than men, is kind of a one-sided question. \n",
    "\n",
    "Depending the case, two-sided question (hypothesis) or the one-sided question (hypothesis) that of course has effect on our test. However, in our course we can consider that we are always testing our data in the two-sided manner. "
   ]
  },
  {
   "cell_type": "markdown",
   "metadata": {},
   "source": [
    "# Student's t-test\n"
   ]
  },
  {
   "cell_type": "markdown",
   "metadata": {},
   "source": [
    "For us to be able to reliably use the t-test couple of conditions need to hold. \n",
    "* The test is for comparing two independent samples\n",
    "* The sample size needs to be >30\n",
    "* the values for the dependent variable are somewhat normally distributed\n",
    "\n",
    "Let's now make the test for the case sat_management where our independent variable is the categorical variable gender.\n",
    "\n",
    "In our case we are comparing the difference of satisfaction levels for men and women. The samples for men and women can be considered independent and\n",
    "there are just two samples - samples for men and women. Also, already know that the sample size is >80, hence the first twho criteria hold.\n",
    "For the third one we could perform test for normality but that topic is left for later. Instead, we can quickly examine the thing graphically.\n"
   ]
  },
  {
   "cell_type": "code",
   "execution_count": 8,
   "metadata": {},
   "outputs": [
    {
     "data": {
      "text/plain": [
       "<AxesSubplot:>"
      ]
     },
     "execution_count": 8,
     "metadata": {},
     "output_type": "execute_result"
    },
    {
     "data": {
      "image/png": "[encoded data removed]",
      "text/plain": [
       "<Figure size 432x288 with 1 Axes>"
      ]
     },
     "metadata": {},
     "output_type": "display_data"
    }
   ],
   "source": [
    "df['sat management'].hist(bins=5)"
   ]
  },
  {
   "cell_type": "markdown",
   "metadata": {},
   "source": [
    "The histogram looks much like normal distribution, so let's continue with the t-test"
   ]
  },
  {
   "cell_type": "code",
   "execution_count": 9,
   "metadata": {},
   "outputs": [
    {
     "data": {
      "text/plain": [
       "Ttest_indResult(statistic=-3.521725334447231, pvalue=0.0011399959961302436)"
      ]
     },
     "execution_count": 9,
     "metadata": {},
     "output_type": "execute_result"
    }
   ],
   "source": [
    "# Forming the data for the groups to be compared\n",
    "g1 = df['sat management'][df['gender'] == 1] # men\n",
    "g2 = df['sat management'][df['gender'] == 2] # women\n",
    "\n",
    "# Kahden riippumattoman (ind) otoksen t-testi\n",
    "from scipy.stats import ttest_ind\n",
    "ttest_ind(g1, g2, equal_var = False)    # The option equal_var refers to the case that you know or doubt that the two groups data would have different variance values. \n",
    "                                        # Variance is just std*std and hence measures the spead of the values around the mean value. Let's consider that a bit later"
   ]
  },
  {
   "cell_type": "markdown",
   "metadata": {},
   "source": [
    "Now you need to know that the p-value is given for the two-sided t-test! Actually, if you would be interested in the one-sided case then your p-value would be just the half of the p-value for two-sided case."
   ]
  },
  {
   "cell_type": "markdown",
   "metadata": {},
   "source": [
    "The value that we just got is clearly less than the value 0.05 that we have considered as limit for statistical significance, in this case for the difference between the two groups. So based on the t-test we can say that there is difference between men and women with satisfaction level to management.\n",
    "\n",
    "### Let's write finally the hypothesis which we are actually testing here down officially. "
   ]
  },
  {
   "cell_type": "markdown",
   "metadata": {},
   "source": [
    "H0, There is no difference between groups\n",
    "\n",
    "H1: There is difference between groups\n",
    "\n",
    "We accept the alternative hypothesis (H1) if the p value is below the significance level we choose for the experiment/for interpretation\n",
    "\n",
    "\n",
    "\n",
    "| p value  |  Wording |\n",
    "|---|---|\n",
    "|  < 0.0001 |  Extremely significant |\n",
    "|  0.0001 to 0.001 |  Extremely significant |\n",
    "|  0.001 to 0.01 |  Very significant |\n",
    "|  0.01 to 0.05 |  Significant |\n",
    "|  ≥ 0.05 |  Not significant |\n",
    "\n"
   ]
  },
  {
   "cell_type": "markdown",
   "metadata": {},
   "source": [
    "So the level p<0.05 is what we have been discussing we use during this course. This is because my examples are not that critical of their nature... But if your study would require more certainly in interpretation, you should adjust our p value limit accordingly."
   ]
  },
  {
   "cell_type": "code",
   "execution_count": null,
   "metadata": {},
   "outputs": [],
   "source": []
  }
 ],
 "metadata": {
  "kernelspec": {
   "display_name": "Python 3 (ipykernel)",
   "language": "python",
   "name": "python3"
  },
  "language_info": {
   "codemirror_mode": {
    "name": "ipython",
    "version": 3
   },
   "file_extension": ".py",
   "mimetype": "text/x-python",
   "name": "python",
   "nbconvert_exporter": "python",
   "pygments_lexer": "ipython3",
   "version": "3.8.8"
  }
 },
 "nbformat": 4,
 "nbformat_minor": 4
}
