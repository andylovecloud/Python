{
 "cells": [
  {
   "cell_type": "markdown",
   "id": "e6afda50",
   "metadata": {},
   "source": [
    "\n",
    "# Small Exercise: Calculating BMI for 10 Persons\n",
    "\n",
    "In this exercise, you will calculate the Body Mass Index (BMI) for 10 individuals using their respective heights and weights.\n",
    "\n",
    "## Body Mass Index (BMI) Formula\n",
    "\n",
    "BMI is a simple calculation using a person's weight and height. The formula is:\n",
    "\n",
    "$$\n",
    "BMI = \\frac{weight\\ (kg)}{(height\\ (m))^2}\n",
    "$$\n",
    "\n",
    "**Where:**\n",
    "- **weight** is in kilograms (kg)\n",
    "- **height** is in meters (m)\n",
    "\n",
    "## Instructions\n",
    "\n",
    "1. First, calculate the BMI for each individual using Python lists (without Numpy).\n",
    "2. Then, calculate the BMI using Numpy to see how it simplifies the calculations.\n",
    "\n",
    "Here’s the data provided for the 10 individuals:\n"
   ]
  },
  {
   "cell_type": "code",
   "execution_count": 1,
   "id": "3c47c0f2",
   "metadata": {},
   "outputs": [],
   "source": [
    "\n",
    "# Data: Heights (in cm) and Weights (in kg) of 10 individuals\n",
    "weights = [80, 90, 45, 60, 120, 99, 73, 82, 57, 63]\n",
    "heights = [180, 176, 155, 170, 179, 175, 190, 160, 169, 169]\n",
    "\n",
    "# Convert heights from cm to meters for BMI calculation\n",
    "heights_in_m = [h / 100 for h in heights]  # Convert to meters\n"
   ]
  },
  {
   "cell_type": "markdown",
   "id": "85b3c023",
   "metadata": {},
   "source": [
    "\n",
    "## Step 1: Calculating BMI Using Regular Python Lists\n",
    "\n",
    "Calculate the BMI for each individual using the data stored in regular Python lists.\n"
   ]
  },
  {
   "cell_type": "code",
   "execution_count": 13,
   "id": "ae429683",
   "metadata": {},
   "outputs": [
    {
     "name": "stdout",
     "output_type": "stream",
     "text": [
      "24.691358024691358\n",
      "BMI of individual 1 is 24.69\n",
      "BMI of individual 2 is 29.05\n",
      "BMI of individual 3 is 18.73\n",
      "BMI of individual 4 is 20.76\n",
      "BMI of individual 5 is 37.45\n",
      "BMI of individual 6 is 32.33\n",
      "BMI of individual 7 is 20.22\n",
      "BMI of individual 8 is 32.03\n",
      "BMI of individual 9 is 19.96\n",
      "BMI of individual 10 is 22.06\n"
     ]
    }
   ],
   "source": [
    "# Calculate BMI using regular Python lists\n",
    "bmi = weights[0] / (heights_in_m[0] * heights_in_m[0])\n",
    "\n",
    "\n",
    "# Calculate BMI using regular Python lists\n",
    "for i in range(len(weights)):\n",
    "    bmi = weights[i] / (heights_in_m[i] ** 2)       # Calculate BMI using formula weight / height^2\n",
    "    print(f\"BMI of individual {i+1} is {bmi:.2f}\") # Round to 2 decimal places\n",
    "\n"
   ]
  },
  {
   "cell_type": "markdown",
   "id": "47b4ac7d",
   "metadata": {},
   "source": [
    "\n",
    "## Step 2: Calculating BMI Using Numpy\n",
    "\n",
    "Now, use Numpy to calculate the BMI, which simplifies the code and makes the calculations faster and more efficient.\n"
   ]
  },
  {
   "cell_type": "code",
   "execution_count": 16,
   "id": "95cd672a",
   "metadata": {},
   "outputs": [
    {
     "name": "stdout",
     "output_type": "stream",
     "text": [
      "BMI of individual 1 is 24.69\n",
      "BMI of individual 2 is 29.05\n",
      "BMI of individual 3 is 18.73\n",
      "BMI of individual 4 is 20.76\n",
      "BMI of individual 5 is 37.45\n",
      "BMI of individual 6 is 32.33\n",
      "BMI of individual 7 is 20.22\n",
      "BMI of individual 8 is 32.03\n",
      "BMI of individual 9 is 19.96\n",
      "BMI of individual 10 is 22.06\n"
     ]
    }
   ],
   "source": [
    "\n",
    "import numpy as np\n",
    "\n",
    "# Calculate BMI using NumPy arrays\n",
    "for i in range(len(weights)):\n",
    "    bmi = weights[i] / np.power(heights_in_m[i], 2) # Using NumPy power function\n",
    "    print(f\"BMI of individual {i+1} is {bmi:.2f}\")  # Round to 2 decimal places\n",
    "\n",
    "\n",
    "\n"
   ]
  }
 ],
 "metadata": {
  "kernelspec": {
   "display_name": "devAI",
   "language": "python",
   "name": "python3"
  },
  "language_info": {
   "codemirror_mode": {
    "name": "ipython",
    "version": 3
   },
   "file_extension": ".py",
   "mimetype": "text/x-python",
   "name": "python",
   "nbconvert_exporter": "python",
   "pygments_lexer": "ipython3",
   "version": "3.11.9"
  }
 },
 "nbformat": 4,
 "nbformat_minor": 5
}
