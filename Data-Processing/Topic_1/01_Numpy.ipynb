{
 "cells": [
  {
   "cell_type": "markdown",
   "id": "7c699b85",
   "metadata": {},
   "source": [
    "\n",
    "# Introduction to Numpy in Python\n",
    "\n",
    "Numpy (Numerical Python) is a powerful library in Python that provides support for large multi-dimensional arrays and matrices, along with a vast collection of high-level mathematical functions to operate on these arrays. Numpy is widely used in scientific computing, data analysis, and machine learning.\n",
    "\n",
    "In this notebook, we will cover:\n",
    "\n",
    "1. Numpy Arrays\n",
    "2. Array Creation Methods\n",
    "3. Array Operations\n",
    "4. Array Indexing & Slicing\n",
    "5. Broadcasting\n",
    "6. Numpy Mathematical Functions\n"
   ]
  },
  {
   "cell_type": "markdown",
   "id": "28a8327f",
   "metadata": {},
   "source": [
    "\n",
    "## 1. Numpy Arrays\n",
    "\n",
    "At the core of Numpy is the `ndarray` object, a fast and flexible container for large data sets. You can create arrays from Python lists using `np.array()`.\n",
    "\n",
    "### Example:\n",
    "```python\n",
    "import numpy as np\n",
    "arr = np.array([1, 2, 3, 4, 5])\n",
    "print(arr)\n",
    "```\n",
    "\n",
    "Numpy arrays support element-wise operations and have many advantages over Python lists.\n"
   ]
  },
  {
   "cell_type": "code",
   "execution_count": 1,
   "id": "5a4d1f7a",
   "metadata": {},
   "outputs": [
    {
     "data": {
      "text/plain": [
       "array([1, 2, 3, 4, 5])"
      ]
     },
     "execution_count": 1,
     "metadata": {},
     "output_type": "execute_result"
    }
   ],
   "source": [
    "\n",
    "import numpy as np\n",
    "\n",
    "# Creating a Numpy array from a Python list\n",
    "arr = np.array([1, 2, 3, 4, 5])\n",
    "arr\n"
   ]
  },
  {
   "cell_type": "markdown",
   "id": "3a0f0a68",
   "metadata": {},
   "source": [
    "\n",
    "## 2. Array Creation Methods\n",
    "\n",
    "Numpy provides several methods for creating arrays without manually specifying all elements. Some common methods include:\n",
    "\n",
    "- `np.zeros(shape)`: Creates an array of given shape filled with zeros.\n",
    "- `np.ones(shape)`: Creates an array of given shape filled with ones.\n",
    "- `np.arange(start, stop, step)`: Creates an array with values ranging from start to stop with a specified step.\n",
    "- `np.linspace(start, stop, num)`: Creates an array of evenly spaced numbers over a specified interval.\n",
    "\n",
    "\n",
    "```\n"
   ]
  },
  {
   "cell_type": "code",
   "execution_count": 2,
   "id": "499afe77",
   "metadata": {},
   "outputs": [
    {
     "data": {
      "text/plain": [
       "(array([[0., 0., 0.],\n",
       "        [0., 0., 0.],\n",
       "        [0., 0., 0.]]),\n",
       " array([[1., 1., 1., 1.],\n",
       "        [1., 1., 1., 1.]]),\n",
       " array([0, 2, 4, 6, 8]),\n",
       " array([0.  , 0.25, 0.5 , 0.75, 1.  ]))"
      ]
     },
     "execution_count": 2,
     "metadata": {},
     "output_type": "execute_result"
    }
   ],
   "source": [
    "\n",
    "# Array creation methods\n",
    "zeros_array = np.zeros((3, 3))  # 3x3 matrix of zeros\n",
    "ones_array = np.ones((2, 4))    # 2x4 matrix of ones\n",
    "arange_array = np.arange(0, 10, 2)  # Array with step size of 2\n",
    "linspace_array = np.linspace(0, 1, 5)  # 5 evenly spaced numbers from 0 to 1\n",
    "\n",
    "zeros_array, ones_array, arange_array, linspace_array\n"
   ]
  },
  {
   "cell_type": "markdown",
   "id": "e3fd493b",
   "metadata": {},
   "source": [
    "\n",
    "## 3. Array Operations\n",
    "\n",
    "Numpy arrays support element-wise operations, allowing for fast and efficient computation. This includes basic arithmetic, comparisons, and matrix operations.\n",
    "\n"
   ]
  },
  {
   "cell_type": "code",
   "execution_count": 3,
   "id": "eee81ce3",
   "metadata": {},
   "outputs": [
    {
     "data": {
      "text/plain": [
       "(array([11, 22, 33, 44, 55]),\n",
       " array([ 10,  40,  90, 160, 250]),\n",
       " array([False, False,  True,  True,  True]),\n",
       " np.int64(550))"
      ]
     },
     "execution_count": 3,
     "metadata": {},
     "output_type": "execute_result"
    }
   ],
   "source": [
    "\n",
    "# Array operations\n",
    "arr = np.array([1, 2, 3, 4, 5])\n",
    "arr2 = np.array([10, 20, 30, 40, 50])\n",
    "\n",
    "# Element-wise addition and multiplication\n",
    "sum_array = arr + arr2\n",
    "mul_array = arr * arr2\n",
    "\n",
    "# Element-wise comparison\n",
    "comparison = arr > 2\n",
    "\n",
    "# Dot product\n",
    "dot_product = np.dot(arr, arr2)\n",
    "\n",
    "sum_array, mul_array, comparison, dot_product\n"
   ]
  },
  {
   "cell_type": "markdown",
   "id": "ae28ecf9",
   "metadata": {},
   "source": [
    "\n",
    "## 4. Array Indexing & Slicing\n",
    "\n",
    "Numpy arrays support powerful indexing and slicing capabilities, similar to Python lists. You can access individual elements or entire subarrays using slice notation.\n",
    "\n"
   ]
  },
  {
   "cell_type": "code",
   "execution_count": 4,
   "id": "fde42997",
   "metadata": {},
   "outputs": [
    {
     "data": {
      "text/plain": [
       "(np.int64(10), np.int64(50), array([20, 30, 40]))"
      ]
     },
     "execution_count": 4,
     "metadata": {},
     "output_type": "execute_result"
    }
   ],
   "source": [
    "\n",
    "# Array indexing and slicing\n",
    "arr = np.array([10, 20, 30, 40, 50])\n",
    "\n",
    "# Accessing individual elements\n",
    "first_element = arr[0]\n",
    "last_element = arr[-1]\n",
    "\n",
    "# Slicing a portion of the array\n",
    "sub_array = arr[1:4]  # From index 1 to 3\n",
    "\n",
    "first_element, last_element, sub_array\n"
   ]
  },
  {
   "cell_type": "markdown",
   "id": "b9b32413",
   "metadata": {},
   "source": [
    "\n",
    "## 5. Broadcasting\n",
    "\n",
    "Numpy's broadcasting feature allows arithmetic operations to be performed on arrays of different shapes. Numpy automatically adjusts the smaller array to match the larger one.\n",
    "\n",
    "In the following case, Numpy treats the scalar (2) as an array with the same shape as arr, but with the value 2 repeated for each element."
   ]
  },
  {
   "cell_type": "code",
   "execution_count": 5,
   "id": "150132c0",
   "metadata": {},
   "outputs": [
    {
     "data": {
      "text/plain": [
       "array([2, 4, 6])"
      ]
     },
     "execution_count": 5,
     "metadata": {},
     "output_type": "execute_result"
    }
   ],
   "source": [
    "\n",
    "# Broadcasting example\n",
    "arr = np.array([1, 2, 3])\n",
    "scalar = 2\n",
    "\n",
    "# Broadcasting a scalar value\n",
    "broadcasted_result = arr * scalar\n",
    "broadcasted_result\n"
   ]
  },
  {
   "cell_type": "markdown",
   "id": "eb5b0a6f",
   "metadata": {},
   "source": [
    "### 5.1 Broadcasting Between Arrays of Different Shapes"
   ]
  },
  {
   "cell_type": "code",
   "execution_count": 7,
   "id": "2b3b4585",
   "metadata": {},
   "outputs": [
    {
     "name": "stdout",
     "output_type": "stream",
     "text": [
      "[[ 2  4  6]\n",
      " [ 5  7  9]\n",
      " [ 8 10 12]]\n"
     ]
    }
   ],
   "source": [
    "# 2D array (matrix) with shape (3, 3)\n",
    "matrix = np.array([[1, 2, 3],\n",
    "                   [4, 5, 6],\n",
    "                   [7, 8, 9]])\n",
    "\n",
    "# 1D array (vector) with shape (3,)\n",
    "vector = np.array([1, 2, 3])\n",
    "\n",
    "# Add the vector to each row of the matrix (broadcasting happens here)\n",
    "result = matrix + vector\n",
    "print(result)\n"
   ]
  },
  {
   "cell_type": "markdown",
   "id": "ee1516b6",
   "metadata": {},
   "source": [
    "\n",
    "## 6. Numpy Mathematical Functions\n",
    "\n",
    "Numpy provides a wide range of mathematical functions such as `np.mean()`, `np.sum()`, `np.sqrt()`, `np.exp()`, and many others for efficient computation.\n",
    "\n",
    "\n"
   ]
  },
  {
   "cell_type": "code",
   "execution_count": 6,
   "id": "ed932240",
   "metadata": {},
   "outputs": [
    {
     "data": {
      "text/plain": [
       "(np.int64(15),\n",
       " np.float64(3.0),\n",
       " array([1.        , 1.41421356, 1.73205081, 2.        , 2.23606798]),\n",
       " array([  2.71828183,   7.3890561 ,  20.08553692,  54.59815003,\n",
       "        148.4131591 ]))"
      ]
     },
     "execution_count": 6,
     "metadata": {},
     "output_type": "execute_result"
    }
   ],
   "source": [
    "\n",
    "# Numpy mathematical functions\n",
    "arr = np.array([1, 2, 3, 4, 5])\n",
    "\n",
    "# Calculate sum, mean, square root, exponential\n",
    "arr_sum = np.sum(arr)\n",
    "arr_mean = np.mean(arr)\n",
    "arr_sqrt = np.sqrt(arr)\n",
    "arr_exp = np.exp(arr)\n",
    "\n",
    "arr_sum, arr_mean, arr_sqrt, arr_exp\n"
   ]
  }
 ],
 "metadata": {
  "kernelspec": {
   "display_name": "devAI",
   "language": "python",
   "name": "python3"
  },
  "language_info": {
   "codemirror_mode": {
    "name": "ipython",
    "version": 3
   },
   "file_extension": ".py",
   "mimetype": "text/x-python",
   "name": "python",
   "nbconvert_exporter": "python",
   "pygments_lexer": "ipython3",
   "version": "3.12.5"
  }
 },
 "nbformat": 4,
 "nbformat_minor": 5
}
