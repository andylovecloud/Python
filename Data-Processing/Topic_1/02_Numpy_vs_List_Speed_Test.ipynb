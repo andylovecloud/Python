{
 "cells": [
  {
   "cell_type": "markdown",
   "id": "9c7ac8a0",
   "metadata": {},
   "source": [
    "\n",
    "# Speed Test: Numpy Arrays vs Python Lists\n",
    "\n",
    "Numpy is known for its efficiency, especially when dealing with large datasets. One of the main reasons is that Numpy arrays (ndarrays) are implemented in C and optimized for numerical computations, whereas Python lists are more general-purpose and less optimized for numerical tasks.\n",
    "\n",
    "In this notebook, we'll conduct a simple speed test to compare the performance of Numpy arrays (`ndarrays`) with regular Python lists for element-wise operations.\n",
    "\n",
    "We will:\n",
    "1. Perform element-wise addition using Numpy arrays.\n",
    "2. Perform the same operation using Python lists.\n",
    "3. Measure and compare the time taken by each approach.\n"
   ]
  },
  {
   "cell_type": "markdown",
   "id": "08c07797",
   "metadata": {},
   "source": [
    "\n",
    "## Setup: Import Libraries and Create Data\n",
    "\n",
    "First, we'll import the required libraries and generate a large dataset of one million numbers, both as a Numpy array and a Python list.\n"
   ]
  },
  {
   "cell_type": "code",
   "execution_count": 1,
   "id": "38902f8e",
   "metadata": {},
   "outputs": [],
   "source": [
    "\n",
    "import numpy as np\n",
    "import time\n",
    "\n",
    "# Generate a large dataset with 1 million elements\n",
    "size = 1000000\n",
    "list_data = list(range(size))  # Python list\n",
    "numpy_data = np.arange(size)  # Numpy array\n"
   ]
  },
  {
   "cell_type": "markdown",
   "id": "a0763fe0",
   "metadata": {},
   "source": [
    "\n",
    "## Speed Test 1: Numpy Array Performance\n",
    "\n",
    "We'll now measure the time it takes for Numpy to perform element-wise addition on the array.\n"
   ]
  },
  {
   "cell_type": "code",
   "execution_count": 2,
   "id": "bf2803d7",
   "metadata": {},
   "outputs": [
    {
     "name": "stdout",
     "output_type": "stream",
     "text": [
      "Numpy time: 0.002917051315307617 seconds\n"
     ]
    }
   ],
   "source": [
    "\n",
    "# Measure time taken by Numpy for element-wise addition\n",
    "start_time = time.time()\n",
    "numpy_result = numpy_data + numpy_data\n",
    "numpy_time = time.time() - start_time\n",
    "\n",
    "print(f\"Numpy time: {numpy_time} seconds\")\n"
   ]
  },
  {
   "cell_type": "markdown",
   "id": "45a9b13a",
   "metadata": {},
   "source": [
    "\n",
    "## Speed Test 2: Python List Performance\n",
    "\n",
    "Next, we'll measure the time it takes for a Python list to perform element-wise addition. Note that Python lists don't support element-wise addition natively, so we'll need to use a loop.\n"
   ]
  },
  {
   "cell_type": "code",
   "execution_count": 3,
   "id": "9f21afac",
   "metadata": {},
   "outputs": [
    {
     "name": "stdout",
     "output_type": "stream",
     "text": [
      "Python list time: 0.04899430274963379 seconds\n"
     ]
    }
   ],
   "source": [
    "\n",
    "# Measure time taken by Python list for element-wise addition using a loop\n",
    "start_time = time.time()\n",
    "list_result = [x + x for x in list_data]\n",
    "list_time = time.time() - start_time\n",
    "\n",
    "print(f\"Python list time: {list_time} seconds\")\n"
   ]
  }
 ],
 "metadata": {
  "kernelspec": {
   "display_name": "devAI",
   "language": "python",
   "name": "python3"
  },
  "language_info": {
   "codemirror_mode": {
    "name": "ipython",
    "version": 3
   },
   "file_extension": ".py",
   "mimetype": "text/x-python",
   "name": "python",
   "nbconvert_exporter": "python",
   "pygments_lexer": "ipython3",
   "version": "3.12.5"
  }
 },
 "nbformat": 4,
 "nbformat_minor": 5
}
