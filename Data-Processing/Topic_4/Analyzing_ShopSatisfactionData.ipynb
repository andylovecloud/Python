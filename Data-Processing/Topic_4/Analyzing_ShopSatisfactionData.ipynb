{
 "cells": [
  {
   "cell_type": "markdown",
   "metadata": {},
   "source": [
    "\n",
    "# Analyzing Shop Satisfaction Data\n",
    "\n",
    "This notebook walks through an analysis of shop satisfaction survey data. The data includes various demographic variables (like age, gender, and education), as well as satisfaction ratings on product range, price level, and more. We'll perform data cleaning, explore descriptive statistics, visualize the data, and examine the relationships between variables using cross-tabulation and hypothesis testing.\n",
    "\n",
    "## Goals of the analysis:\n",
    "1. Understand the demographics of the respondents.\n",
    "2. Visualize satisfaction levels for various demographic groups.\n",
    "3. Test whether there are significant relationships between certain variables (e.g., gender and education).\n",
    "\n",
    "Let's begin by importing the necessary libraries and loading the dataset."
   ]
  },
  {
   "cell_type": "code",
   "execution_count": 2,
   "metadata": {},
   "outputs": [],
   "source": [
    "\n",
    "\n",
    "import numpy as np\n",
    "import pandas as pd\n",
    "import matplotlib.pyplot as plt\n",
    "import seaborn as sns\n"
   ]
  },
  {
   "cell_type": "markdown",
   "metadata": {},
   "source": [
    "\n",
    "## Initial Exploration\n",
    "\n",
    "In this section, we'll start by importing the necessary libraries and loading the data. We'll take an initial look at the dataset to understand its structure and contents.\n"
   ]
  },
  {
   "cell_type": "markdown",
   "metadata": {},
   "source": [
    "\n",
    "Here we use the `head()` function to display the first five rows of the dataset, which helps us quickly understand the variables available and how the data is structured.\n"
   ]
  },
  {
   "cell_type": "code",
   "execution_count": null,
   "metadata": {},
   "outputs": [],
   "source": [
    "# Open the data\n",
    "df = pd.read_excel('ShopSatisfactionSurveyData.xlsx')\n",
    "df.head()"
   ]
  },
  {
   "cell_type": "markdown",
   "metadata": {},
   "source": [
    "\n",
    "## Data Cleaning\n",
    "\n",
    "Before diving into the analysis, we need to clean the data. In this step, we'll:\n",
    "1. Rename columns based on the information provided in the dataset.\n",
    "2. Drop unnecessary columns.\n",
    "3. Check for missing values.\n",
    "\n",
    "Cleaning the dataset ensures that it's in a format suitable for analysis.\n"
   ]
  },
  {
   "cell_type": "code",
   "execution_count": null,
   "metadata": {},
   "outputs": [],
   "source": [
    "df.isnull().sum()"
   ]
  },
  {
   "cell_type": "code",
   "execution_count": 5,
   "metadata": {},
   "outputs": [],
   "source": [
    "# Rename columns based on the explanations found in the Excel file\n",
    "df.columns = ['H', 'gender', 'age', 'family_size', 'house', 'education', 'net_income', 'purchases', 'sat_product_range', 'sat_price_level']"
   ]
  },
  {
   "cell_type": "code",
   "execution_count": null,
   "metadata": {},
   "outputs": [],
   "source": [
    "df.head()"
   ]
  },
  {
   "cell_type": "code",
   "execution_count": 7,
   "metadata": {},
   "outputs": [],
   "source": [
    "# Drop unnecessary columns (like 'H')\n",
    "df = df.drop(['H'], axis=1)"
   ]
  },
  {
   "cell_type": "code",
   "execution_count": null,
   "metadata": {},
   "outputs": [],
   "source": [
    "df.head()"
   ]
  },
  {
   "cell_type": "markdown",
   "metadata": {},
   "source": [
    "\n",
    "## Descriptive Statistics and Summary\n",
    "\n",
    "Next, we'll summarize the dataset using basic descriptive statistics. This gives us insights into the distribution, central tendencies, and variability of the variables.\n"
   ]
  },
  {
   "cell_type": "code",
   "execution_count": null,
   "metadata": {},
   "outputs": [],
   "source": [
    "# Get a summary of the data\n",
    "df.info()"
   ]
  },
  {
   "cell_type": "code",
   "execution_count": null,
   "metadata": {},
   "outputs": [],
   "source": [
    "\n",
    "# Display basic statistics for numerical columns\n",
    "df.describe()"
   ]
  },
  {
   "cell_type": "code",
   "execution_count": null,
   "metadata": {},
   "outputs": [],
   "source": [
    "# Finding the 3 oldest respondents based on age\n",
    "df.nlargest(n=3, columns='age')"
   ]
  },
  {
   "cell_type": "code",
   "execution_count": null,
   "metadata": {},
   "outputs": [],
   "source": [
    "# Finding the 3 youngest respondents based on age\n",
    "df.nsmallest(n=3, columns='age')"
   ]
  },
  {
   "cell_type": "markdown",
   "metadata": {},
   "source": [
    "\n",
    "## Visualizations\n",
    "\n",
    "In this section, we'll create some visualizations to better understand the distribution of the data. We'll start by visualizing the distribution of net income and then explore other variables.\n"
   ]
  },
  {
   "cell_type": "markdown",
   "metadata": {},
   "source": [
    "\n",
    "The boxplot provides a visual summary of the distribution of net household income. It shows the median, quartiles, and potential outliers, helping us understand the spread and concentration of income levels in the data.\n"
   ]
  },
  {
   "cell_type": "code",
   "execution_count": null,
   "metadata": {},
   "outputs": [],
   "source": [
    "# Visualize the distribution of net income\n",
    "ax3 = sns.boxplot(x=df['net_income'])\n",
    "ax3.set_xlabel('Net house income, n=' + str(df['net_income'].count()))\n",
    "plt.show()"
   ]
  },
  {
   "cell_type": "markdown",
   "metadata": {},
   "source": [
    "### Investigating Qualitative Variables and Generating Frequency Tables\n",
    "\n",
    "Investigate some of the qualitative (categorical) variables in the dataset. One such variable is the level of education, which we will use to generate a frequency table.\n",
    "\n",
    "- We use the `pd.crosstab()` function to create a frequency table for the `education` column, which shows how many respondents fall into each education category.\n",
    "- The education categories are manually labeled for clarity using common education levels.\n",
    "- We remove the name for the columns to make the table cleaner."
   ]
  },
  {
   "cell_type": "code",
   "execution_count": 14,
   "metadata": {},
   "outputs": [],
   "source": [
    "# Investigate a few qualitative variables and generate frequency table(s) for their values\n",
    "df1=pd.crosstab(df['education'], 'Count')"
   ]
  },
  {
   "cell_type": "code",
   "execution_count": null,
   "metadata": {},
   "outputs": [],
   "source": [
    "df1"
   ]
  },
  {
   "cell_type": "code",
   "execution_count": null,
   "metadata": {},
   "outputs": [],
   "source": [
    "# Labeling the index with meaningful education categories\n",
    "df1.index=['Primary school','Vocational school or similar','Secondary school graduate','Applied science university','Other university']\n",
    "df1"
   ]
  },
  {
   "cell_type": "code",
   "execution_count": 17,
   "metadata": {},
   "outputs": [],
   "source": [
    "# Remove the name of the columns\n",
    "df1.columns.name=''"
   ]
  },
  {
   "cell_type": "code",
   "execution_count": null,
   "metadata": {},
   "outputs": [],
   "source": [
    "df1"
   ]
  },
  {
   "cell_type": "markdown",
   "metadata": {},
   "source": [
    "### Visualizing the Education Distribution\n",
    "\n",
    "Once we've generated the frequency table for the education levels, we can visualize the distribution using a horizontal bar chart. Bar charts are useful for comparing the sizes of different categories visually.\n",
    "\n",
    "- We use the `plot.barh()` method to create a horizontal bar chart, which is a great way to display categorical data.\n",
    "- Each bar represents an education level, and the length of the bar corresponds to the count of respondents in that category.\n",
    "\n",
    "This visualization will make it easier to compare the distribution of education levels across the dataset.\n"
   ]
  },
  {
   "cell_type": "code",
   "execution_count": null,
   "metadata": {},
   "outputs": [],
   "source": [
    "df1.plot.barh()"
   ]
  },
  {
   "cell_type": "markdown",
   "metadata": {},
   "source": [
    "### Enhancing the Education Distribution Visualization\n",
    "\n",
    "Enhance the previous bar chart by adding a title and axis labels for better readability. This helps provide context to the visualization, making it easier to interpret the data.\n",
    "\n",
    "- Remove the legend from the chart for simplicity since it's not necessary in this case.\n",
    "- Add a title, \"Education distribution\", to clearly indicate what the chart represents.\n",
    "- The x-axis is labeled as \"Count\" to show the number of respondents in each education category.\n"
   ]
  },
  {
   "cell_type": "code",
   "execution_count": null,
   "metadata": {},
   "outputs": [],
   "source": [
    "df1.plot.barh(legend = False)\n",
    "\n",
    "plt.title('Education distribution')\n",
    "plt.xlabel('Count')"
   ]
  },
  {
   "cell_type": "markdown",
   "metadata": {},
   "source": [
    "### Adding the Total Count to the Education Distribution Chart\n",
    "\n",
    "Calculate the total number of respondents and include it in the x-axis label of our bar chart. This provides additional context, making it clear that the chart represents a total of 102 respondents.\n",
    "\n",
    "- First, calculate the sum of the counts in the `df1` frequency table using the `sum()` function.\n",
    "- Then, plot the horizontal bar chart without a legend, similar to the previous step.\n",
    "- Modify the x-axis label to include the total number of respondents (102 in this case).\n"
   ]
  },
  {
   "cell_type": "code",
   "execution_count": null,
   "metadata": {},
   "outputs": [],
   "source": [
    "sum(df1['Count'])"
   ]
  },
  {
   "cell_type": "code",
   "execution_count": null,
   "metadata": {},
   "outputs": [],
   "source": [
    "df1.plot.barh(legend = False)\n",
    "\n",
    "plt.title('Education distribution')\n",
    "plt.xlabel('Count, N=102')"
   ]
  },
  {
   "cell_type": "markdown",
   "metadata": {},
   "source": [
    "### Calculating Percentages for Education Distribution\n",
    "\n",
    "The frequency table of education is extended by calculating the percentage of respondents in each category. This allows for a better understanding of the relative sizes of each group compared to the total number of respondents.\n",
    "\n",
    "- The `pd.crosstab()` function is used to create a new frequency table (`df2`) for the `education` column, similar to the earlier table.\n",
    "- A new column, `%`, is added, which calculates the percentage of respondents in each education category.\n",
    "- The education categories are manually labeled for clarity, and the name of the columns is removed for a cleaner presentation.\n"
   ]
  },
  {
   "cell_type": "code",
   "execution_count": null,
   "metadata": {},
   "outputs": [],
   "source": [
    "df2 = pd.crosstab(df['education'], 'Count')\n",
    "df2['%'] = df2['Count'] / df2['Count'].sum() * 100\n",
    "df2.index = ['Primary school', 'Vocational school or similar', 'Secondary school graduate', 'Applied science university', 'Other university']\n",
    "df2.columns.name = ''\n",
    "df2\n"
   ]
  },
  {
   "cell_type": "markdown",
   "metadata": {},
   "source": [
    "### Visualizing the Education Distribution with Percentages\n",
    "\n",
    "Visualizes the education distribution using percentages instead of raw counts. A horizontal bar chart is created to show the proportion of respondents in each education category.\n",
    "\n",
    "- The `plot.barh()` method is used to create the bar chart.\n",
    "- A title is added to the chart, and the x-axis label is updated to show the total number of respondents.\n",
    "- Gridlines are displayed along the x-axis for clarity, and the y-axis tick marks are hidden to keep the chart clean.\n"
   ]
  },
  {
   "cell_type": "code",
   "execution_count": null,
   "metadata": {},
   "outputs": [],
   "source": [
    "df2['%'].plot.barh(zorder = 2)\n",
    "\n",
    "plt.title('Education distribution')\n",
    "\n",
    "plt.xlabel('%, n = ' + str(df2['Count'].sum()))\n",
    "\n",
    "plt.grid(axis = 'x')\n",
    "plt.tick_params(axis = 'y', length = 0)"
   ]
  },
  {
   "cell_type": "markdown",
   "metadata": {},
   "source": [
    "### Categorizing Net Income into Bins\n",
    "\n",
    "The `net_income` column is categorized into different income classes based on specified ranges (bins). This allows for grouping the respondents' net income into meaningful categories for further analysis.\n",
    "\n",
    "- The minimum and maximum values of `net_income` are identified to understand the income range in the dataset.\n",
    "- The income is then classified into bins using the `pd.cut()` function. The specified bins are: 500-1000, 1000-2000, 2000-3000, 3000-4000, and 4000-7000.\n",
    "- A new column `income_class` is created to store the categorized income values."
   ]
  },
  {
   "cell_type": "code",
   "execution_count": null,
   "metadata": {},
   "outputs": [],
   "source": [
    "min(df['net_income'])"
   ]
  },
  {
   "cell_type": "code",
   "execution_count": null,
   "metadata": {},
   "outputs": [],
   "source": [
    "max(df['net_income'])"
   ]
  },
  {
   "cell_type": "code",
   "execution_count": 27,
   "metadata": {},
   "outputs": [],
   "source": [
    "bins = [500, 1000, 2000, 3000, 4000, 7000]"
   ]
  },
  {
   "cell_type": "code",
   "execution_count": 28,
   "metadata": {},
   "outputs": [],
   "source": [
    "df['income_class'] = pd.cut(df['net_income'], bins = bins)"
   ]
  },
  {
   "cell_type": "code",
   "execution_count": null,
   "metadata": {},
   "outputs": [],
   "source": [
    "df"
   ]
  },
  {
   "cell_type": "markdown",
   "metadata": {},
   "source": [
    "### Creating a Frequency Table for Income Classes\n",
    "\n",
    "A frequency table is created for the income classes that were categorized in the previous step. This table shows both the count and percentage of respondents in each income class.\n",
    "\n",
    "- The `pd.crosstab()` function is used to create a frequency table (`df3`) for the `income_class` column, showing the count of respondents in each income category.\n",
    "- The column name is removed for a cleaner look.\n",
    "- The total count of respondents is calculated, and a percentage column is added to the frequency table to display the proportion of respondents in each income category.\n"
   ]
  },
  {
   "cell_type": "code",
   "execution_count": 30,
   "metadata": {},
   "outputs": [],
   "source": [
    "df3 = pd.crosstab(df['income_class'], 'Count')\n",
    "\n",
    "df3.columns.name = ''\n",
    "\n",
    "# Percentages\n",
    "n = df3['Count'].sum()\n",
    "df3['%'] = df3 / n * 100"
   ]
  },
  {
   "cell_type": "code",
   "execution_count": null,
   "metadata": {},
   "outputs": [],
   "source": [
    "df3"
   ]
  },
  {
   "cell_type": "code",
   "execution_count": null,
   "metadata": {},
   "outputs": [],
   "source": [
    "type(df3.index.values[0])"
   ]
  },
  {
   "cell_type": "markdown",
   "metadata": {},
   "source": [
    "### Adding a Total Row to the Income Class Table\n",
    "\n",
    "The index of the income class table is converted to strings so that a \"Total\" row can be added to the table. The total row provides a summary of the counts and percentages across all income classes.\n",
    "\n",
    "- The index of the `df3` table is converted to strings using `astype(str)` to ensure consistency when adding the \"Total\" row.\n",
    "- A new row labeled \"Total\" is added, which contains the sum of the counts and percentages across all income classes.\n"
   ]
  },
  {
   "cell_type": "code",
   "execution_count": null,
   "metadata": {},
   "outputs": [],
   "source": [
    "df3.index = df3.index.astype(str)\n",
    "df3.loc['Total'] = df3.sum()\n",
    "df3"
   ]
  },
  {
   "cell_type": "code",
   "execution_count": null,
   "metadata": {},
   "outputs": [],
   "source": [
    "# Checking the Data Type of the Income Class Index\n",
    "type(df3.index.values[0])"
   ]
  },
  {
   "cell_type": "code",
   "execution_count": null,
   "metadata": {},
   "outputs": [],
   "source": [
    "# Finalizing the layout\n",
    "#The `style.format()` function is used to format the `Count` column as an integer without decimal points.\n",
    "#The `%` column is formatted to display one decimal place followed by a percentage symbol.\n",
    "\n",
    "df3.style.format({'Count': '{:.0f}', '%': '{:.1f} %'})"
   ]
  },
  {
   "cell_type": "markdown",
   "metadata": {},
   "source": [
    "### Creating a Histogram for Net Income Distribution (Counts)\n",
    "\n",
    "In this step, a histogram is generated to visualize the distribution of `net_income` using the predefined income bins. The histogram provides a visual representation of how many respondents fall into each income range.\n",
    "\n",
    "- The `hist()` function is used to create a histogram for the `net_income` column, with the previously defined bins.\n",
    "- The x-axis is labeled \"Net income\" to represent the different income ranges.\n",
    "- The y-axis is labeled \"Count\", and the total number of respondents is included in the label.\n"
   ]
  },
  {
   "cell_type": "code",
   "execution_count": null,
   "metadata": {},
   "outputs": [],
   "source": [
    "df['net_income'].hist(bins = bins)\n",
    "\n",
    "plt.xlabel('Net income')\n",
    "plt.ylabel('Count, n=' + str(n))"
   ]
  },
  {
   "cell_type": "markdown",
   "metadata": {},
   "source": [
    "- a histogram is generated to visualize the distribution of `net_income` using percentages instead of counts. This helps in understanding the proportion of respondents in each income range relative to the total population."
   ]
  },
  {
   "cell_type": "code",
   "execution_count": null,
   "metadata": {},
   "outputs": [],
   "source": [
    "df['net_income'].hist(bins = bins, weights = np.ones(n) / n * 100)\n",
    "\n",
    "plt.xlabel('Net income')\n",
    "plt.ylabel('%, n=' + str(n))"
   ]
  },
  {
   "cell_type": "markdown",
   "metadata": {},
   "source": [
    "---"
   ]
  },
  {
   "cell_type": "markdown",
   "metadata": {},
   "source": [
    "### Creating a Cross-Tabulation of Education and Gender (Percentages)\n",
    "\n",
    "In this step, a cross-tabulation of `education` and `gender` is created, showing the percentage of women and men in each education category. This helps in comparing the distribution of education levels across genders.\n",
    "\n",
    "- The `pd.crosstab()` function is used to create a cross-tabulation of the `education` and `gender` columns.\n",
    "- The `normalize='columns'` argument is used to calculate percentages for each gender separately, so the percentages sum to 100% within each gender column.\n",
    "- The education categories are labeled for clarity, and the columns are renamed as \"woman\" and \"man.\"\n"
   ]
  },
  {
   "cell_type": "code",
   "execution_count": 38,
   "metadata": {},
   "outputs": [],
   "source": [
    "df4 = pd.crosstab(df['education'], df['gender'], normalize = 'columns') * 100\n",
    "df4.index = ['Primary school', 'Vocational school or similar', 'Secondary school graduate', 'Applied science university', 'Other university']\n",
    "df4.columns = ['woman', 'man']"
   ]
  },
  {
   "cell_type": "code",
   "execution_count": null,
   "metadata": {},
   "outputs": [],
   "source": [
    "df4"
   ]
  },
  {
   "cell_type": "markdown",
   "metadata": {},
   "source": [
    "- A horizontal bar chart is created to visualize the percentage distribution of education levels across genders. This provides a clear visual comparison between women and men in different education categories."
   ]
  },
  {
   "cell_type": "code",
   "execution_count": null,
   "metadata": {},
   "outputs": [],
   "source": [
    "df4.plot.barh(legend = 'reverse')\n",
    "\n",
    "plt.xlabel('Percentages for gender')\n",
    "\n",
    "plt.grid(axis = 'y')"
   ]
  },
  {
   "cell_type": "markdown",
   "metadata": {},
   "source": [
    "### Creating a Cross-Tabulation of Education and Gender (Raw Counts)\n",
    "\n",
    "In this step, a cross-tabulation of `education` and `gender` is created, showing the raw count of women and men in each education category. This helps in understanding the actual number of respondents in each group.\n",
    "\n",
    "- The `pd.crosstab()` function is used to generate a cross-tabulation between the `education` and `gender` columns, where the values represent raw counts rather than percentages.\n",
    "- The education categories are manually labeled for clarity, and the columns are renamed as \"woman\" and \"man.\"\n"
   ]
  },
  {
   "cell_type": "code",
   "execution_count": null,
   "metadata": {},
   "outputs": [],
   "source": [
    "# Create a cross-tabulation between education and gender, showing raw counts\n",
    "df5 = pd.crosstab(df['education'], df['gender'])\n",
    "\n",
    "# Label the index with education categories\n",
    "df5.index = ['Primary school', 'Vocational school or similar', 'Secondary school graduate', 'Applied science university', 'Other university']\n",
    "\n",
    "# Rename the columns to 'woman' and 'man'\n",
    "df5.columns = ['woman', 'man']\n",
    "\n",
    "df5\n"
   ]
  },
  {
   "cell_type": "markdown",
   "metadata": {},
   "source": [
    "### Performing a Chi-Square Test for Education and Gender Dependency\n",
    "\n",
    "A Chi-Square test is performed to assess whether there is a statistically significant relationship between education levels and gender. This helps determine if the observed differences in education distribution between women and men are due to chance or reflect a real dependency.\n",
    "\n",
    "- The `chi2_contingency()` function from the `scipy.stats` module is used to perform the test.\n",
    "- The test is conducted on the raw counts from the cross-tabulation (`df5`), as the Chi-Square test requires count data.\n",
    "- The output includes the Chi-Square statistic, the p-value, degrees of freedom, and the expected frequencies.\n"
   ]
  },
  {
   "cell_type": "code",
   "execution_count": null,
   "metadata": {},
   "outputs": [],
   "source": [
    "from scipy.stats import chi2_contingency\n",
    "\n",
    "\n",
    "chi2_contingency(df5)"
   ]
  },
  {
   "cell_type": "markdown",
   "metadata": {},
   "source": [
    "## Interpretation\n",
    "\n",
    "- Since the p-value (0.851) is greater than 0.05, the result suggests that there is no significant dependency between education level and gender in this dataset.\n",
    "\n",
    "- The observed distribution of education levels across genders is likely due to random variation and not due to a meaningful relationship."
   ]
  }
 ],
 "metadata": {
  "kernelspec": {
   "display_name": "devAI",
   "language": "python",
   "name": "python3"
  },
  "language_info": {
   "codemirror_mode": {
    "name": "ipython",
    "version": 3
   },
   "file_extension": ".py",
   "mimetype": "text/x-python",
   "name": "python",
   "nbconvert_exporter": "python",
   "pygments_lexer": "ipython3",
   "version": "3.12.5"
  }
 },
 "nbformat": 4,
 "nbformat_minor": 4
}
