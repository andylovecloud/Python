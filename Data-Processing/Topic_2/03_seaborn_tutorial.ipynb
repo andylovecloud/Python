{
 "cells": [
  {
   "cell_type": "markdown",
   "id": "961a989e",
   "metadata": {},
   "source": [
    "# Seaborn Notebook\n",
    "\n",
    "In this notebook, we will learn how to create various types of plots using Seaborn, starting from the basics and moving towards advanced concepts."
   ]
  },
  {
   "cell_type": "markdown",
   "id": "b03f02db",
   "metadata": {},
   "source": [
    "## Importing Libraries\n",
    "\n",
    "First, let's import the necessary libraries."
   ]
  },
  {
   "cell_type": "code",
   "execution_count": null,
   "id": "31d93c95",
   "metadata": {},
   "outputs": [],
   "source": [
    "%pip install seaborn"
   ]
  },
  {
   "cell_type": "code",
   "execution_count": 3,
   "id": "fd758b90",
   "metadata": {},
   "outputs": [],
   "source": [
    "import seaborn as sns\n",
    "import matplotlib.pyplot as plt\n",
    "import numpy as np\n",
    "import pandas as pd\n",
    "%matplotlib inline"
   ]
  },
  {
   "cell_type": "markdown",
   "id": "3d7db86d",
   "metadata": {},
   "source": [
    "## Loading Sample Datasets\n",
    "\n",
    "Seaborn comes with several built-in datasets. Let's load one of them."
   ]
  },
  {
   "cell_type": "code",
   "execution_count": null,
   "id": "a80b598d",
   "metadata": {},
   "outputs": [],
   "source": [
    "# Load the 'tips' dataset\n",
    "tips = sns.load_dataset('tips')\n",
    "tips.head()"
   ]
  },
  {
   "cell_type": "markdown",
   "id": "4a606617",
   "metadata": {},
   "source": [
    "## Scatter Plot\n",
    "\n",
    "Creating a basic scatter plot using Seaborn."
   ]
  },
  {
   "cell_type": "code",
   "execution_count": null,
   "id": "cbdd90dc",
   "metadata": {},
   "outputs": [],
   "source": [
    "sns.scatterplot(data=tips, x='total_bill', y='tip')\n",
    "plt.title('Scatter Plot of Total Bill vs Tip')\n",
    "plt.show()"
   ]
  },
  {
   "cell_type": "markdown",
   "id": "cf787f22",
   "metadata": {},
   "source": [
    "## Scatter Plot with Hue\n",
    "\n",
    "Adding a categorical variable using the `hue` parameter."
   ]
  },
  {
   "cell_type": "code",
   "execution_count": null,
   "id": "f57e588b",
   "metadata": {},
   "outputs": [],
   "source": [
    "sns.scatterplot(data=tips, x='total_bill', y='tip', hue='sex')\n",
    "plt.title('Scatter Plot with Hue')\n",
    "plt.show()"
   ]
  },
  {
   "cell_type": "markdown",
   "id": "aed362db",
   "metadata": {},
   "source": [
    "## Line Plot\n",
    "\n",
    "Creating a line plot."
   ]
  },
  {
   "cell_type": "code",
   "execution_count": null,
   "id": "0d434f0e",
   "metadata": {},
   "outputs": [],
   "source": [
    "tips_grouped = tips.groupby('day')['total_bill'].mean().reset_index()\n",
    "\n",
    "sns.lineplot(data=tips_grouped, x='day', y='total_bill', marker='o')\n",
    "plt.title('Average Total Bill per Day')\n",
    "plt.xlabel('Day')\n",
    "plt.ylabel('Average Total Bill')\n",
    "plt.show()"
   ]
  },
  {
   "cell_type": "markdown",
   "id": "01935a4e",
   "metadata": {},
   "source": [
    "## Bar Plot\n",
    "\n",
    "Creating a bar plot."
   ]
  },
  {
   "cell_type": "code",
   "execution_count": null,
   "id": "27fe0eb5",
   "metadata": {},
   "outputs": [],
   "source": [
    "sns.barplot(data=tips, x='day', y='total_bill')\n",
    "plt.title('Bar Plot')\n",
    "plt.show()"
   ]
  },
  {
   "cell_type": "markdown",
   "id": "4fa3bd18",
   "metadata": {},
   "source": [
    "## Histogram\n",
    "\n",
    "Creating a histogram and a KDE plot."
   ]
  },
  {
   "cell_type": "code",
   "execution_count": null,
   "id": "52f3f393",
   "metadata": {},
   "outputs": [],
   "source": [
    "sns.histplot(data=tips['total_bill'], bins=30, kde=True)\n",
    "plt.title('Histogram with KDE')\n",
    "plt.show()"
   ]
  },
  {
   "cell_type": "markdown",
   "id": "9e3579cb",
   "metadata": {},
   "source": [
    "## Box Plot\n",
    "\n",
    "Creating a box plot to show distributions with respect to categories."
   ]
  },
  {
   "cell_type": "code",
   "execution_count": null,
   "id": "131d61d6",
   "metadata": {},
   "outputs": [],
   "source": [
    "sns.boxplot(data=tips, x='day', y='total_bill')\n",
    "plt.title('Box Plot')\n",
    "plt.show()"
   ]
  },
  {
   "cell_type": "markdown",
   "id": "9d00b454",
   "metadata": {},
   "source": [
    "## Violin Plot\n",
    "\n",
    "Creating a violin plot."
   ]
  },
  {
   "cell_type": "code",
   "execution_count": null,
   "id": "df0a0afc",
   "metadata": {},
   "outputs": [],
   "source": [
    "sns.violinplot(data=tips, x='day', y='total_bill', hue='sex', split=True)\n",
    "plt.title('Violin Plot')\n",
    "plt.show()"
   ]
  },
  {
   "cell_type": "markdown",
   "id": "2784c5e3",
   "metadata": {},
   "source": [
    "## Pair Plot\n",
    "\n",
    "Creating pairwise relationships in a dataset."
   ]
  },
  {
   "cell_type": "code",
   "execution_count": null,
   "id": "135ff100",
   "metadata": {},
   "outputs": [],
   "source": [
    "sns.pairplot(tips)\n",
    "plt.show()"
   ]
  },
  {
   "cell_type": "markdown",
   "id": "d88588ed",
   "metadata": {},
   "source": [
    "## Heatmap\n",
    "\n",
    "Creating a heatmap to show correlations."
   ]
  },
  {
   "cell_type": "code",
   "execution_count": null,
   "id": "82e2e131",
   "metadata": {},
   "outputs": [],
   "source": [
    "# Compute the correlation matrix using only numeric columns\n",
    "numeric_cols = tips.select_dtypes(include=['number']).columns\n",
    "corr = tips[numeric_cols].corr()\n",
    "\n",
    "# Generate a mask for the upper triangle\n",
    "mask = np.triu(np.ones_like(corr, dtype=bool))\n",
    "\n",
    "# Set up the matplotlib figure\n",
    "f, ax = plt.subplots(figsize=(8, 6))\n",
    "\n",
    "# Draw the heatmap with the mask and correct aspect ratio\n",
    "sns.heatmap(corr, mask=mask, annot=True, cmap='coolwarm', square=True, ax=ax)\n",
    "\n",
    "plt.title('Heatmap of Correlation Matrix')\n",
    "plt.show()\n"
   ]
  },
  {
   "cell_type": "markdown",
   "id": "bd1ba96c",
   "metadata": {},
   "source": [
    "## Facet Grid\n",
    "\n",
    "Using FacetGrid for plotting multiple graphs based on categories."
   ]
  },
  {
   "cell_type": "code",
   "execution_count": null,
   "id": "c4b19b03",
   "metadata": {},
   "outputs": [],
   "source": [
    "g = sns.FacetGrid(tips, col='time')\n",
    "g.map_dataframe(sns.histplot, x='total_bill')\n",
    "plt.show()"
   ]
  },
  {
   "cell_type": "markdown",
   "id": "11ed448e",
   "metadata": {},
   "source": [
    "## Joint Plot\n",
    "\n",
    "Creating a joint plot to show bivariate distributions."
   ]
  },
  {
   "cell_type": "code",
   "execution_count": null,
   "id": "e2cf50ef",
   "metadata": {},
   "outputs": [],
   "source": [
    "sns.jointplot(data=tips, x='total_bill', y='tip', kind='reg')\n",
    "plt.show()"
   ]
  },
  {
   "cell_type": "markdown",
   "id": "bbee20d6",
   "metadata": {},
   "source": [
    "## Regression Plot\n",
    "\n",
    "Plotting a linear regression model fit."
   ]
  },
  {
   "cell_type": "code",
   "execution_count": null,
   "id": "9f6ed16e",
   "metadata": {},
   "outputs": [],
   "source": [
    "sns.lmplot(data=tips, x='total_bill', y='tip', hue='sex')\n",
    "plt.title('Regression Plot')\n",
    "plt.show()"
   ]
  },
  {
   "cell_type": "markdown",
   "id": "fb53d202",
   "metadata": {},
   "source": [
    "## Customizing Plots\n",
    "\n",
    "Customizing the appearance of the plots."
   ]
  },
  {
   "cell_type": "code",
   "execution_count": null,
   "id": "4c955421",
   "metadata": {},
   "outputs": [],
   "source": [
    "sns.set_style('darkgrid')\n",
    "sns.scatterplot(data=tips, x='total_bill', y='tip', hue='day', style='time')\n",
    "plt.title('Customized Scatter Plot')\n",
    "plt.show()"
   ]
  },
  {
   "cell_type": "markdown",
   "id": "57d22a6d",
   "metadata": {},
   "source": [
    "## Swarm Plot\n",
    "\n",
    "Creating a swarm plot to show distributions."
   ]
  },
  {
   "cell_type": "code",
   "execution_count": null,
   "id": "9431f315",
   "metadata": {},
   "outputs": [],
   "source": [
    "sns.swarmplot(data=tips, x='day', y='total_bill', hue='sex')\n",
    "plt.title('Swarm Plot')\n",
    "plt.show()"
   ]
  },
  {
   "cell_type": "markdown",
   "id": "56cdd566",
   "metadata": {},
   "source": [
    "## Categorical Plot (Cat Plot)\n",
    "\n",
    "Using `catplot` to combine different plots."
   ]
  },
  {
   "cell_type": "code",
   "execution_count": null,
   "id": "f608189f",
   "metadata": {},
   "outputs": [],
   "source": [
    "sns.catplot(data=tips, x='day', y='total_bill', hue='sex', kind='violin')\n",
    "plt.title('Categorical Plot')\n",
    "plt.show()"
   ]
  },
  {
   "cell_type": "markdown",
   "id": "3f56752c",
   "metadata": {},
   "source": [
    "## Time Series Plot\n",
    "\n",
    "Plotting time series data."
   ]
  },
  {
   "cell_type": "code",
   "execution_count": null,
   "id": "04a005c8",
   "metadata": {},
   "outputs": [],
   "source": [
    "# Create a sample time series dataset\n",
    "dates = pd.date_range('20210101', periods=100)\n",
    "data = pd.DataFrame({'Date': dates, 'Value': np.random.randn(100).cumsum()})\n",
    "\n",
    "sns.lineplot(data=data, x='Date', y='Value')\n",
    "plt.title('Time Series Plot')\n",
    "plt.show()"
   ]
  }
 ],
 "metadata": {
  "kernelspec": {
   "display_name": "devAI",
   "language": "python",
   "name": "python3"
  },
  "language_info": {
   "codemirror_mode": {
    "name": "ipython",
    "version": 3
   },
   "file_extension": ".py",
   "mimetype": "text/x-python",
   "name": "python",
   "nbconvert_exporter": "python",
   "pygments_lexer": "ipython3",
   "version": "3.12.5"
  }
 },
 "nbformat": 4,
 "nbformat_minor": 5
}
