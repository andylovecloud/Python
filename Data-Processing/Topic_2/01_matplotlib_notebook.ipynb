{
 "cells": [
  {
   "cell_type": "markdown",
   "id": "d93c3ad1",
   "metadata": {},
   "source": [
    "# Matplotlib Notebook\n",
    "\n",
    "In this notebook, we will learn how to create various types of plots using Matplotlib, starting from the basics and moving towards advanced concepts."
   ]
  },
  {
   "cell_type": "markdown",
   "id": "3d80559e",
   "metadata": {},
   "source": [
    "## Importing Libraries\n",
    "\n",
    "First, let's import the necessary libraries."
   ]
  },
  {
   "cell_type": "code",
   "execution_count": null,
   "id": "7e7bdaaa",
   "metadata": {},
   "outputs": [],
   "source": [
    "# Install matplotlib if you haven't already\n",
    "!pip install matplotlib"
   ]
  },
  {
   "cell_type": "code",
   "execution_count": 2,
   "id": "6848a617",
   "metadata": {},
   "outputs": [],
   "source": [
    "import matplotlib.pyplot as plt\n",
    "import numpy as np\n",
    "\n",
    "# Only if you're using Jupyter Notebook\n",
    "%matplotlib inline  "
   ]
  },
  {
   "cell_type": "markdown",
   "id": "a10bead0",
   "metadata": {},
   "source": [
    "## Basic Line Plot\n",
    "\n",
    "Let's create a simple line plot using NumPy arrays."
   ]
  },
  {
   "cell_type": "code",
   "execution_count": null,
   "id": "d034b1b2",
   "metadata": {},
   "outputs": [],
   "source": [
    "plt.plot([1, 2, 3, 4])\n",
    "plt.ylabel('some numbers')\n",
    "plt.show()"
   ]
  },
  {
   "cell_type": "code",
   "execution_count": null,
   "id": "430903ca",
   "metadata": {},
   "outputs": [],
   "source": [
    "x = np.linspace(0, 10, 100)\n",
    "y = np.sin(x)\n",
    "\n",
    "plt.plot(x, y)\n",
    "plt.title('Simple Line Plot')\n",
    "plt.xlabel('x')\n",
    "plt.ylabel('sin(x)')\n",
    "plt.show()"
   ]
  },
  {
   "cell_type": "markdown",
   "id": "3c07ac08",
   "metadata": {},
   "source": [
    "## Scatter Plot\n",
    "\n",
    "Creating a scatter plot."
   ]
  },
  {
   "cell_type": "code",
   "execution_count": null,
   "id": "a4806093",
   "metadata": {},
   "outputs": [],
   "source": [
    "x = np.random.rand(50)\n",
    "y = np.random.rand(50)\n",
    "colors = np.random.rand(50)\n",
    "sizes = 1000 * np.random.rand(50)\n",
    "\n",
    "plt.scatter(x, y, c=colors, s=sizes, alpha=0.3, cmap='viridis')\n",
    "plt.colorbar()\n",
    "plt.show()"
   ]
  },
  {
   "cell_type": "markdown",
   "id": "0452a608",
   "metadata": {},
   "source": [
    "## Bar Chart\n",
    "\n",
    "Creating a bar chart."
   ]
  },
  {
   "cell_type": "code",
   "execution_count": null,
   "id": "6a1da442",
   "metadata": {},
   "outputs": [],
   "source": [
    "labels = ['A', 'B', 'C', 'D', 'E']\n",
    "values = [5, 7, 3, 8, 4]\n",
    "\n",
    "plt.bar(labels, values)\n",
    "plt.title('Bar Chart')\n",
    "plt.show()"
   ]
  },
  {
   "cell_type": "markdown",
   "id": "5f20e854",
   "metadata": {},
   "source": [
    "## Histogram\n",
    "\n",
    "Creating a histogram."
   ]
  },
  {
   "cell_type": "code",
   "execution_count": null,
   "id": "1f635891",
   "metadata": {},
   "outputs": [],
   "source": [
    "data = np.random.randn(1000)\n",
    "\n",
    "plt.hist(data, bins=30)\n",
    "plt.title('Histogram')\n",
    "plt.show()"
   ]
  },
  {
   "cell_type": "markdown",
   "id": "31074906",
   "metadata": {},
   "source": [
    "## Pie Chart\n",
    "\n",
    "Creating a pie chart."
   ]
  },
  {
   "cell_type": "code",
   "execution_count": null,
   "id": "d0ec0f3a",
   "metadata": {},
   "outputs": [],
   "source": [
    "labels = ['Apple', 'Banana', 'Cherry', 'Date']\n",
    "sizes = [15, 30, 45, 10]\n",
    "\n",
    "plt.pie(sizes, labels=labels, autopct='%1.1f%%', shadow=True, startangle=90)\n",
    "plt.axis('equal')  # Equal aspect ratio ensures that pie is drawn as a circle.\n",
    "plt.show()"
   ]
  },
  {
   "cell_type": "markdown",
   "id": "05de695c",
   "metadata": {},
   "source": [
    "## Box Plot\n",
    "\n",
    "Creating a box plot."
   ]
  },
  {
   "cell_type": "code",
   "execution_count": null,
   "id": "55be6d96",
   "metadata": {},
   "outputs": [],
   "source": [
    "data = [np.random.normal(0, std, 100) for std in range(1, 4)]\n",
    "\n",
    "plt.boxplot(data)\n",
    "plt.title('Box Plot')\n",
    "plt.show()"
   ]
  },
  {
   "cell_type": "markdown",
   "id": "3d5c8fcc",
   "metadata": {},
   "source": [
    "## Violin Plot\n",
    "\n",
    "Creating a violin plot."
   ]
  },
  {
   "cell_type": "code",
   "execution_count": null,
   "id": "3726dc2a",
   "metadata": {},
   "outputs": [],
   "source": [
    "data = [np.random.normal(0, std, 100) for std in range(1, 4)]\n",
    "\n",
    "plt.violinplot(data)\n",
    "plt.title('Violin Plot')\n",
    "plt.show()"
   ]
  },
  {
   "cell_type": "markdown",
   "id": "9384f7c3",
   "metadata": {},
   "source": [
    "## Heatmap\n",
    "\n",
    "Creating a heatmap."
   ]
  },
  {
   "cell_type": "code",
   "execution_count": null,
   "id": "1ddc1258",
   "metadata": {},
   "outputs": [],
   "source": [
    "data = np.random.rand(10, 10)\n",
    "\n",
    "plt.imshow(data, cmap='hot', interpolation='nearest')\n",
    "plt.title('Heatmap')\n",
    "plt.colorbar()\n",
    "plt.show()"
   ]
  },
  {
   "cell_type": "markdown",
   "id": "4fc5da3c",
   "metadata": {},
   "source": [
    "## 3D Plot\n",
    "\n",
    "Creating a 3D plot."
   ]
  },
  {
   "cell_type": "code",
   "execution_count": null,
   "id": "e836cf34",
   "metadata": {},
   "outputs": [],
   "source": [
    "from mpl_toolkits.mplot3d import Axes3D\n",
    "\n",
    "fig = plt.figure()\n",
    "ax = fig.add_subplot(111, projection='3d')\n",
    "\n",
    "x = np.linspace(-5, 5, 100)\n",
    "y = np.linspace(-5, 5, 100)\n",
    "x, y = np.meshgrid(x, y)\n",
    "r = np.sqrt(x**2 + y**2)\n",
    "z = np.sin(r)\n",
    "\n",
    "ax.plot_surface(x, y, z, cmap='viridis')\n",
    "plt.show()"
   ]
  },
  {
   "cell_type": "markdown",
   "id": "d0fb8702",
   "metadata": {},
   "source": [
    "## Subplots\n",
    "\n",
    "Creating multiple subplots in a single figure."
   ]
  },
  {
   "cell_type": "code",
   "execution_count": null,
   "id": "05461a92",
   "metadata": {},
   "outputs": [],
   "source": [
    "# Ensure 'labels' and 'values' are defined with the same length\n",
    "labels = ['A', 'B', 'C', 'D']  # Length 4\n",
    "values = [5, 7, 3, 8]          # Length 4\n",
    "\n",
    "\n",
    "fig, axs = plt.subplots(2, 2)\n",
    "\n",
    "axs[0, 0].plot(x, y)\n",
    "axs[0, 0].set_title('Line Plot')\n",
    "\n",
    "axs[0, 1].scatter(x, y)\n",
    "axs[0, 1].set_title('Scatter Plot')\n",
    "\n",
    "axs[1, 0].bar(labels, values)\n",
    "axs[1, 0].set_title('Bar Chart')\n",
    "\n",
    "axs[1, 1].hist(data)\n",
    "axs[1, 1].set_title('Histogram')\n",
    "\n",
    "plt.tight_layout()\n",
    "plt.show()\n"
   ]
  },
  {
   "cell_type": "markdown",
   "id": "f4bb0d53",
   "metadata": {},
   "source": [
    "## Styles\n",
    "\n",
    "Using different styles in Matplotlib."
   ]
  },
  {
   "cell_type": "code",
   "execution_count": null,
   "id": "429453df",
   "metadata": {},
   "outputs": [],
   "source": [
    "print(plt.style.available)"
   ]
  },
  {
   "cell_type": "code",
   "execution_count": null,
   "id": "76f76acd",
   "metadata": {},
   "outputs": [],
   "source": [
    "plt.style.use('bmh')\n",
    "\n",
    "plt.plot(x, y)\n",
    "plt.title('Styled Line Plot')\n",
    "plt.show()"
   ]
  },
  {
   "cell_type": "markdown",
   "id": "4b87b5cb",
   "metadata": {},
   "source": [
    "## Annotations\n",
    "\n",
    "Adding annotations to the plot."
   ]
  },
  {
   "cell_type": "code",
   "execution_count": null,
   "id": "81a1442d",
   "metadata": {},
   "outputs": [],
   "source": [
    "plt.plot(x, y)\n",
    "plt.annotate('Local max', xy=(1.5*np.pi, 1), xytext=(5, 1.5),\n",
    "             arrowprops=dict(facecolor='black', shrink=0.05))\n",
    "plt.title('Annotated Plot')\n",
    "plt.show()"
   ]
  },
  {
   "cell_type": "markdown",
   "id": "326e43fd",
   "metadata": {},
   "source": [
    "## Interactive Plots\n",
    "\n",
    "Creating interactive plots using widgets (only works in Jupyter Notebook)."
   ]
  },
  {
   "cell_type": "code",
   "execution_count": null,
   "id": "765e1100",
   "metadata": {},
   "outputs": [],
   "source": [
    "!pip install ipywidgets"
   ]
  },
  {
   "cell_type": "code",
   "execution_count": null,
   "id": "c0cf4fc5",
   "metadata": {},
   "outputs": [],
   "source": [
    "from ipywidgets import interact\n",
    "\n",
    "def plot_func(f):\n",
    "    x = np.linspace(0, 10, 100)\n",
    "    if f == 'sin':\n",
    "        y = np.sin(x)\n",
    "    elif f == 'cos':\n",
    "        y = np.cos(x)\n",
    "    elif f == 'tan':\n",
    "        y = np.tan(x)\n",
    "    plt.plot(x, y)\n",
    "    plt.title(f'{f} function')\n",
    "    plt.show()\n",
    "\n",
    "interact(plot_func, f=['sin', 'cos', 'tan'])"
   ]
  }
 ],
 "metadata": {
  "kernelspec": {
   "display_name": "devAI",
   "language": "python",
   "name": "python3"
  },
  "language_info": {
   "codemirror_mode": {
    "name": "ipython",
    "version": 3
   },
   "file_extension": ".py",
   "mimetype": "text/x-python",
   "name": "python",
   "nbconvert_exporter": "python",
   "pygments_lexer": "ipython3",
   "version": "3.12.5"
  }
 },
 "nbformat": 4,
 "nbformat_minor": 5
}
