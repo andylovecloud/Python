{
 "cells": [
  {
   "cell_type": "markdown",
   "id": "e2bc5113",
   "metadata": {},
   "source": [
    "# Matplotlib Notebook with Real-World Datasets\n",
    "\n",
    "In this notebook, we will use real-world datasets to learn how to create various types of plots using Matplotlib. We will start from basic plots and move towards advanced visualizations, explaining why each type of plot is useful and when to use it."
   ]
  },
  {
   "cell_type": "markdown",
   "id": "8df794a4",
   "metadata": {},
   "source": [
    "## Importing Libraries\n",
    "\n",
    "First, let's import the necessary libraries."
   ]
  },
  {
   "cell_type": "code",
   "execution_count": 3,
   "id": "beb1e105",
   "metadata": {},
   "outputs": [],
   "source": [
    "import matplotlib.pyplot as plt\n",
    "import numpy as np\n",
    "%matplotlib inline"
   ]
  },
  {
   "cell_type": "markdown",
   "id": "4adbdc91",
   "metadata": {},
   "source": [
    "## Loading Real-World Dataset\n",
    "\n",
    "We will use the **Iris dataset**, a classic dataset in machine learning, which is available in `sklearn` and can be loaded without pandas."
   ]
  },
  {
   "cell_type": "code",
   "execution_count": null,
   "id": "5f412ec1",
   "metadata": {},
   "outputs": [],
   "source": [
    "from sklearn import datasets\n",
    "\n",
    "# Load the iris dataset\n",
    "iris = datasets.load_iris()\n",
    "data = iris.data\n",
    "target = iris.target\n",
    "target_names = iris.target_names\n",
    "\n",
    "# Display the shape of the data\n",
    "print('Data shape:', data.shape)\n",
    "print('Target shape:', target.shape)"
   ]
  },
  {
   "cell_type": "markdown",
   "id": "eb7119cf",
   "metadata": {},
   "source": [
    "## Scatter Plot\n",
    "\n",
    "**When to use:** Scatter plots are ideal for showing the relationship between two numerical variables.\n",
    "\n",
    "Let's visualize the relationship between sepal length and sepal width."
   ]
  },
  {
   "cell_type": "code",
   "execution_count": null,
   "id": "543599b0",
   "metadata": {},
   "outputs": [],
   "source": [
    "# Scatter Plot of Sepal Length vs Sepal Width\n",
    "plt.figure(figsize=(10, 6))\n",
    "plt.scatter(data[:, 0], data[:, 1], c=target, cmap='viridis', alpha=0.7)\n",
    "plt.title('Sepal Length vs Sepal Width')\n",
    "plt.xlabel('Sepal Length (cm)')\n",
    "plt.ylabel('Sepal Width (cm)')\n",
    "plt.colorbar(ticks=[0, 1, 2], label='Species')\n",
    "plt.show()"
   ]
  },
  {
   "cell_type": "markdown",
   "id": "46dc0829",
   "metadata": {},
   "source": [
    "## Line Plot\n",
    "\n",
    "**When to use:** Line plots are ideal for visualizing data trends over a sequence or time.\n",
    "\n",
    "Let's plot the mean sepal length for each species."
   ]
  },
  {
   "cell_type": "code",
   "execution_count": null,
   "id": "eec2e343",
   "metadata": {},
   "outputs": [],
   "source": [
    "# Calculate mean sepal length for each species\n",
    "mean_sepal_length = [np.mean(data[target == i, 0]) for i in range(3)]\n",
    "\n",
    "# Line Plot of Mean Sepal Length\n",
    "plt.figure(figsize=(8, 6))\n",
    "plt.plot(target_names, mean_sepal_length, marker='o')\n",
    "plt.title('Mean Sepal Length by Species')\n",
    "plt.xlabel('Species')\n",
    "plt.ylabel('Mean Sepal Length (cm)')\n",
    "plt.show()"
   ]
  },
  {
   "cell_type": "markdown",
   "id": "3b3e6e9f",
   "metadata": {},
   "source": [
    "## Histogram\n",
    "\n",
    "**When to use:** Histograms are used to represent the distribution of a numeric variable.\n",
    "\n",
    "Let's look at the distribution of petal lengths."
   ]
  },
  {
   "cell_type": "code",
   "execution_count": null,
   "id": "28e37713",
   "metadata": {},
   "outputs": [],
   "source": [
    "# Histogram of Petal Length\n",
    "plt.figure(figsize=(10, 6))\n",
    "plt.hist(data[:, 2], bins=20, color='skyblue', edgecolor='black')\n",
    "plt.title('Distribution of Petal Length')\n",
    "plt.xlabel('Petal Length (cm)')\n",
    "plt.ylabel('Frequency')\n",
    "plt.show()"
   ]
  },
  {
   "cell_type": "markdown",
   "id": "bde460b0",
   "metadata": {},
   "source": [
    "## Bar Plot\n",
    "\n",
    "**When to use:** Bar plots are useful for comparing quantities across different categories.\n",
    "\n",
    "Let's compare the mean petal width among the species."
   ]
  },
  {
   "cell_type": "code",
   "execution_count": null,
   "id": "d91f0467",
   "metadata": {},
   "outputs": [],
   "source": [
    "# Calculate mean petal width for each species\n",
    "mean_petal_width = [np.mean(data[target == i, 3]) for i in range(3)]\n",
    "\n",
    "# Bar Plot of Mean Petal Width\n",
    "plt.figure(figsize=(8, 6))\n",
    "plt.bar(target_names, mean_petal_width, color=['red', 'green', 'blue'])\n",
    "plt.title('Mean Petal Width by Species')\n",
    "plt.xlabel('Species')\n",
    "plt.ylabel('Mean Petal Width (cm)')\n",
    "plt.show()"
   ]
  },
  {
   "cell_type": "markdown",
   "id": "990d194f",
   "metadata": {},
   "source": [
    "## Box Plot\n",
    "\n",
    "**When to use:** Box plots are great for comparing distributions and identifying outliers.\n",
    "\n",
    "Let's compare the distribution of petal lengths across species."
   ]
  },
  {
   "cell_type": "code",
   "execution_count": null,
   "id": "9bed410e",
   "metadata": {},
   "outputs": [],
   "source": [
    "# Box Plot of Petal Length by Species\n",
    "plt.figure(figsize=(10, 6))\n",
    "data_to_plot = [data[target == i, 2] for i in range(3)]\n",
    "plt.boxplot(data_to_plot, labels=target_names)\n",
    "plt.title('Petal Length by Species')\n",
    "plt.xlabel('Species')\n",
    "plt.ylabel('Petal Length (cm)')\n",
    "plt.show()"
   ]
  },
  {
   "cell_type": "markdown",
   "id": "e050e5c2",
   "metadata": {},
   "source": [
    "## Heatmap\n",
    "\n",
    "**When to use:** Heatmaps are used to represent data values in a matrix form, often to visualize correlation matrices.\n",
    "\n",
    "Let's compute and visualize the correlation matrix for the features."
   ]
  },
  {
   "cell_type": "code",
   "execution_count": null,
   "id": "cffc78a9",
   "metadata": {},
   "outputs": [],
   "source": [
    "# Compute correlation matrix\n",
    "correlation_matrix = np.corrcoef(data.T)\n",
    "\n",
    "# Plot heatmap\n",
    "plt.figure(figsize=(8, 6))\n",
    "plt.imshow(correlation_matrix, cmap='coolwarm', interpolation='nearest')\n",
    "plt.title('Correlation Matrix Heatmap')\n",
    "plt.colorbar()\n",
    "feature_names = iris.feature_names\n",
    "plt.xticks(range(len(feature_names)), feature_names, rotation=90)\n",
    "plt.yticks(range(len(feature_names)), feature_names)\n",
    "plt.show()"
   ]
  },
  {
   "cell_type": "markdown",
   "id": "c316dfc1",
   "metadata": {},
   "source": [
    "## Pie Chart\n",
    "\n",
    "**When to use:** Pie charts are useful for showing proportions within a whole.\n",
    "\n",
    "Let's show the proportion of each species in the dataset."
   ]
  },
  {
   "cell_type": "code",
   "execution_count": null,
   "id": "3facf185",
   "metadata": {},
   "outputs": [],
   "source": [
    "# Pie Chart of Species Proportion\n",
    "species_counts = [np.sum(target == i) for i in range(3)]\n",
    "plt.figure(figsize=(8, 8))\n",
    "plt.pie(species_counts, labels=target_names, autopct='%1.1f%%', startangle=140)\n",
    "plt.title('Proportion of Each Species in the Iris Dataset')\n",
    "plt.axis('equal')\n",
    "plt.show()"
   ]
  },
  {
   "cell_type": "markdown",
   "id": "eaf60123",
   "metadata": {},
   "source": [
    "## Subplots\n",
    "\n",
    "**When to use:** Subplots are used when you want to display multiple plots in a grid layout, making comparisons easier.\n",
    "\n",
    "Let's create subplots for each feature's distribution."
   ]
  },
  {
   "cell_type": "code",
   "execution_count": null,
   "id": "7ed8de95",
   "metadata": {},
   "outputs": [],
   "source": [
    "# Subplots of Feature Distributions\n",
    "features = data.T\n",
    "feature_names = iris.feature_names\n",
    "\n",
    "fig, axs = plt.subplots(2, 2, figsize=(12, 8))\n",
    "\n",
    "axs[0, 0].hist(features[0], bins=20, color='skyblue', edgecolor='black')\n",
    "axs[0, 0].set_title(feature_names[0])\n",
    "\n",
    "axs[0, 1].hist(features[1], bins=20, color='salmon', edgecolor='black')\n",
    "axs[0, 1].set_title(feature_names[1])\n",
    "\n",
    "axs[1, 0].hist(features[2], bins=20, color='limegreen', edgecolor='black')\n",
    "axs[1, 0].set_title(feature_names[2])\n",
    "\n",
    "axs[1, 1].hist(features[3], bins=20, color='violet', edgecolor='black')\n",
    "axs[1, 1].set_title(feature_names[3])\n",
    "\n",
    "for ax in axs.flat:\n",
    "    ax.set_xlabel('Measurement (cm)')\n",
    "    ax.set_ylabel('Frequency')\n",
    "\n",
    "plt.tight_layout()\n",
    "plt.show()"
   ]
  }
 ],
 "metadata": {
  "kernelspec": {
   "display_name": "devAI",
   "language": "python",
   "name": "python3"
  },
  "language_info": {
   "codemirror_mode": {
    "name": "ipython",
    "version": 3
   },
   "file_extension": ".py",
   "mimetype": "text/x-python",
   "name": "python",
   "nbconvert_exporter": "python",
   "pygments_lexer": "ipython3",
   "version": "3.12.5"
  }
 },
 "nbformat": 4,
 "nbformat_minor": 5
}
