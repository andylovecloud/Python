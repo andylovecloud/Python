{
 "cells": [
  {
   "cell_type": "markdown",
   "id": "3a2d1db6",
   "metadata": {},
   "source": [
    "Calculator Build a program that can be used as a basic calculator. Your program should have a menu displayed for the user to choose from, where are listed basic operations: addition, subtraction multiplication, division, second power, square root, exit.The program should allow user to choose the desired operation over and over again until user chooses to quit using it."
   ]
  },
  {
   "cell_type": "code",
   "execution_count": null,
   "id": "49b8d547",
   "metadata": {},
   "outputs": [],
   "source": [
    "import math\n",
    "\n",
    "def main():\n",
    "    while True:\n",
    "        print(\"\\n=== BASIC CALCULATOR ===\")\n",
    "        print(\"1. Addition\")\n",
    "        print(\"2. Subtraction\")\n",
    "        print(\"3. Multiplication\")\n",
    "        print(\"4. Division\")\n",
    "        print(\"5. Second Power\")\n",
    "        print(\"6. Square Root\")\n",
    "        print(\"0. Exit\")\n",
    "        choice = input(\"Enter your choice: \")\n",
    "\n",
    "        #start the choice for Addition calculation\n",
    "        if choice == \"1\":\n",
    "            num1 = float(input(\"Enter first number: \"))\n",
    "            num2 = float(input(\"Enter second number: \"))\n",
    "            result = int(num1 + num2) #sum of 2 values were enterred by end user\n",
    "            print(\"Result: \", result)\n",
    "\n",
    "        elif choice == \"2\":\n",
    "            num1 = float(input(\"Enter first number: \"))\n",
    "            num2 = float(input(\"Enter second number: \"))\n",
    "            result = int(num1 - num2)\n",
    "            print(\"Result: \", result)\n",
    "\n",
    "        elif choice == \"3\":\n",
    "            num1 = float(input(\"Enter first number: \"))\n",
    "            num2 = float(input(\"Enter second number: \"))\n",
    "            result = int(num1 * num2)\n",
    "            print(\"Result: \", result)\n",
    "\n",
    "        elif choice == \"4\":\n",
    "            num1 = float(input(\"Enter first number: \"))\n",
    "            num2 = float(input(\"Enter second number: \"))\n",
    "            if num2 == 0:\n",
    "                print(\"Error: Cannot divide by zero\")\n",
    "            else:\n",
    "                result = int(num1 / num2)\n",
    "                print(\"Result: \", result)\n",
    "\n",
    "        elif choice == \"5\":\n",
    "            num = float(input(\"Enter a number: \"))\n",
    "            result = int (num ** 2)\n",
    "            print(\"Result: \", result)\n",
    "\n",
    "        elif choice == \"6\":\n",
    "            num = float(input(\"Enter a number: \"))\n",
    "            if num < 0:\n",
    "                print(\"Error: Cannot calculate square root of a negative number\")\n",
    "            else:\n",
    "                result = math.sqrt(num)\n",
    "                print(\"Result: \", result)\n",
    "\n",
    "        elif choice == \"0\":\n",
    "            print(\"Exiting calculator...\")\n",
    "            break\n",
    "\n",
    "        else:\n",
    "            print(\"Invalid input. Please enter a valid choice.\")\n",
    "\n",
    "\n",
    "if __name__ == \"__main__\":\n",
    "    main()"
   ]
  },
  {
   "cell_type": "code",
   "execution_count": null,
   "id": "93567a0a",
   "metadata": {},
   "outputs": [],
   "source": []
  }
 ],
 "metadata": {
  "kernelspec": {
   "display_name": "Python 3 (ipykernel)",
   "language": "python",
   "name": "python3"
  },
  "language_info": {
   "codemirror_mode": {
    "name": "ipython",
    "version": 3
   },
   "file_extension": ".py",
   "mimetype": "text/x-python",
   "name": "python",
   "nbconvert_exporter": "python",
   "pygments_lexer": "ipython3",
   "version": "3.9.13"
  }
 },
 "nbformat": 4,
 "nbformat_minor": 5
}
